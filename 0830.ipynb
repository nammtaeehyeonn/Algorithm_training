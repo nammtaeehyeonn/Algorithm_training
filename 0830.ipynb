{
 "cells": [
  {
   "cell_type": "markdown",
   "id": "29c1a3b2",
   "metadata": {},
   "source": [
    "### 1065"
   ]
  },
  {
   "cell_type": "code",
   "execution_count": 135,
   "id": "014384b9",
   "metadata": {
    "scrolled": true
   },
   "outputs": [
    {
     "name": "stdout",
     "output_type": "stream",
     "text": [
      "500\n",
      "119\n"
     ]
    }
   ],
   "source": [
    "N = int(input())\n",
    "cnt = 99\n",
    "\n",
    "for i in range(N+1):\n",
    "    if N <= 99:\n",
    "        cnt = N\n",
    "        break\n",
    "        \n",
    "    if i > 99:\n",
    "        ANS = []\n",
    "        str_i = str(i)\n",
    "        for j in range(len(str_i)-1):\n",
    "            ans = int(str_i[j]) - int(str_i[j+1])\n",
    "            ANS.append(ans)\n",
    "        if len(set(ANS)) == 1:\n",
    "            cnt += 1\n",
    "            \n",
    "print(cnt)"
   ]
  },
  {
   "cell_type": "markdown",
   "id": "2668ba49",
   "metadata": {},
   "source": [
    "### 1166"
   ]
  },
  {
   "cell_type": "code",
   "execution_count": 206,
   "id": "cad1c13b",
   "metadata": {},
   "outputs": [
    {
     "name": "stdout",
     "output_type": "stream",
     "text": [
      "50 5900 1565 1212\n",
      "521.0\n"
     ]
    }
   ],
   "source": [
    "N, L, W, H = map(int,input().split())\n",
    "\n",
    "def box(N, L, W, H):\n",
    "    cnt = 0\n",
    "    r = 0\n",
    "    ANS = []\n",
    "    while True:\n",
    "        r += 1\n",
    "        \n",
    "        l = L // r\n",
    "        w = W // r\n",
    "        h = H // r\n",
    "        \n",
    "        cnt = (l * w * h)\n",
    "        \n",
    "        if cnt >= N:\n",
    "            ANS.append(r)\n",
    "            \n",
    "        if cnt < N:\n",
    "            break\n",
    "\n",
    "    print(float(ANS[-1]))\n",
    "    return \n",
    "\n",
    "box(N,L,W,H)"
   ]
  },
  {
   "cell_type": "code",
   "execution_count": 207,
   "id": "fe977cb3",
   "metadata": {},
   "outputs": [
    {
     "name": "stdout",
     "output_type": "stream",
     "text": [
      "50 5900 1565 1212\n",
      "521.6666666666666\n"
     ]
    }
   ],
   "source": [
    "n, l, w, h = map(int, input().split())\n",
    "first = 0\n",
    "end = max(l, w, h)\n",
    "\n",
    "for i in range(100):\n",
    "    mid = (first + end) / 2\n",
    "    if (l//mid) * (w//mid) * (h//mid) >= n:\n",
    "        first = mid\n",
    "    else:\n",
    "        end = mid\n",
    "print(first)"
   ]
  }
 ],
 "metadata": {
  "kernelspec": {
   "display_name": "Python 3 (ipykernel)",
   "language": "python",
   "name": "python3"
  },
  "language_info": {
   "codemirror_mode": {
    "name": "ipython",
    "version": 3
   },
   "file_extension": ".py",
   "mimetype": "text/x-python",
   "name": "python",
   "nbconvert_exporter": "python",
   "pygments_lexer": "ipython3",
   "version": "3.9.12"
  }
 },
 "nbformat": 4,
 "nbformat_minor": 5
}
