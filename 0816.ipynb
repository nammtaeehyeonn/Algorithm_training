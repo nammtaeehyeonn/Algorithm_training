{
 "cells": [
  {
   "cell_type": "markdown",
   "id": "7e4fa6a5",
   "metadata": {},
   "source": [
    "### 10989 // 메모리 제한으로 실패"
   ]
  },
  {
   "cell_type": "code",
   "execution_count": 285,
   "id": "7e8e3b42",
   "metadata": {},
   "outputs": [
    {
     "name": "stdout",
     "output_type": "stream",
     "text": [
      "5\n",
      "2\n",
      "1\n",
      "4\n",
      "2\n",
      "3\n",
      "1\n",
      "2\n",
      "2\n",
      "3\n",
      "4\n"
     ]
    }
   ],
   "source": [
    "N = int(input())\n",
    "\n",
    "A = []\n",
    "for i in range(N):\n",
    "    a = int(input())\n",
    "    A.append(a)\n",
    "\n",
    "for k in range(N):\n",
    "    for j in range(N-1):\n",
    "        if A[j] > A[j+1]:\n",
    "            tmp = A[j]\n",
    "            A[j] = A[j+1]\n",
    "            A[j+1] = tmp\n",
    "\n",
    "for i in A:\n",
    "    print(i)"
   ]
  },
  {
   "cell_type": "markdown",
   "id": "d4602b67",
   "metadata": {},
   "source": [
    "### 2444"
   ]
  },
  {
   "cell_type": "code",
   "execution_count": 49,
   "id": "abe01206",
   "metadata": {
    "scrolled": true
   },
   "outputs": [
    {
     "name": "stdout",
     "output_type": "stream",
     "text": [
      "5\n",
      "    *\n",
      "   ***\n",
      "  *****\n",
      " *******\n",
      "*********\n",
      " *******\n",
      "  *****\n",
      "   ***\n",
      "    *\n"
     ]
    }
   ],
   "source": [
    "N = int(input())\n",
    "n = N\n",
    "m = 1\n",
    "\n",
    "while m <= (2*N-1):\n",
    "    n -= 1\n",
    "    print(\" \"*n + \"*\"*m)\n",
    "    m += 2\n",
    "\n",
    "m -= 2\n",
    "\n",
    "for i in range(N-1):\n",
    "    n += 1\n",
    "    m -= 2\n",
    "    print(\" \"*n + \"*\"*m)"
   ]
  },
  {
   "cell_type": "markdown",
   "id": "1829f003",
   "metadata": {},
   "source": [
    "### 1010 // 못 품"
   ]
  },
  {
   "cell_type": "code",
   "execution_count": 55,
   "id": "a15fbca0",
   "metadata": {},
   "outputs": [
    {
     "name": "stdout",
     "output_type": "stream",
     "text": [
      "2\n",
      "2 2\n",
      "1 3\n",
      "[1, 3]\n"
     ]
    }
   ],
   "source": [
    "T = int(input())\n",
    "ANS = []\n",
    "\n",
    "for i in range(T):\n",
    "    N, M = map(int,input().split())\n",
    "    if N == 1:\n",
    "        ans = N*M\n",
    "        ANS.append(ans)\n",
    "    if N == M:\n",
    "        ans = 1\n",
    "        ANS.append(ans)\n",
    "        \n",
    "    \n",
    "    \n",
    "print(ANS)"
   ]
  },
  {
   "cell_type": "code",
   "execution_count": 82,
   "id": "5d289000",
   "metadata": {},
   "outputs": [],
   "source": [
    "N, M = 2, 4\n",
    "A = [i for i in range(N)]\n",
    "B = [i for i in range(M)]\n",
    "C = [i for i in range(N)]"
   ]
  },
  {
   "cell_type": "code",
   "execution_count": 83,
   "id": "f850b779",
   "metadata": {},
   "outputs": [
    {
     "name": "stdout",
     "output_type": "stream",
     "text": [
      "[0, 1]\n",
      "[0, 1, 2, 3]\n",
      "[0, 1]\n"
     ]
    }
   ],
   "source": [
    "print(A)\n",
    "print(B)\n",
    "print(C)"
   ]
  },
  {
   "cell_type": "code",
   "execution_count": 84,
   "id": "ec9611ff",
   "metadata": {},
   "outputs": [
    {
     "name": "stdout",
     "output_type": "stream",
     "text": [
      "[0, 1]\n",
      "1\n",
      "[0, 2]\n",
      "2\n",
      "[0, 3]\n",
      "3\n"
     ]
    }
   ],
   "source": [
    "tmp = 0\n",
    "\n",
    "while C[0] <= len(B)-len(C):\n",
    "    while C[-1] <= B[-1]:\n",
    "        print(C)\n",
    "        C[-1] += 1\n",
    "        tmp += 1\n",
    "        print(tmp)\n",
    "    C[0] += 1\n",
    "\n"
   ]
  },
  {
   "cell_type": "markdown",
   "id": "6c32c228",
   "metadata": {},
   "source": [
    "### 1026"
   ]
  },
  {
   "cell_type": "code",
   "execution_count": 212,
   "id": "1678498f",
   "metadata": {
    "scrolled": true
   },
   "outputs": [
    {
     "name": "stdout",
     "output_type": "stream",
     "text": [
      "3\n",
      "1 1 3\n",
      "10 20 30\n",
      "80\n"
     ]
    }
   ],
   "source": [
    "N = int(input())\n",
    "\n",
    "A = list(map(int,input().split()))\n",
    "AA = [0 for i in range(N)]\n",
    "\n",
    "B = list(map(int,input().split()))\n",
    "B_s = sorted(B)\n",
    "B_list = []\n",
    "\n",
    "ans = 0\n",
    "\n",
    "for i in B:\n",
    "    B_list.append(B_s.index(i))\n",
    "    \n",
    "for i in range(N):\n",
    "    AA[B_list.index(min(B_list))] = max(A)\n",
    "    B_list[B_list.index(min(B_list))] = 101\n",
    "    A[A.index(max(A))] = -1\n",
    "    \n",
    "for i in range(N):\n",
    "    ans +=AA[i] * B[i]\n",
    "    \n",
    "print(ans)"
   ]
  },
  {
   "cell_type": "markdown",
   "id": "ce42a62c",
   "metadata": {},
   "source": [
    "### 1049"
   ]
  },
  {
   "cell_type": "code",
   "execution_count": 283,
   "id": "3aedc362",
   "metadata": {},
   "outputs": [
    {
     "name": "stdout",
     "output_type": "stream",
     "text": [
      "15 1\n",
      "100 40\n",
      "300\n"
     ]
    }
   ],
   "source": [
    "N, M = map(int,input().split())\n",
    "A = []\n",
    "min_cost = 0\n",
    "\n",
    "for i in range(M):\n",
    "    A_ = list(map(int,input().split()))\n",
    "    A.extend(A_)\n",
    "    \n",
    "    \n",
    "A_list = A.copy()    \n",
    "for i in range(0,len(A_list),2):\n",
    "    A_list[i+1] = A_list[i+1]*6\n",
    "    \n",
    "while N > 6:\n",
    "    min_cost += min(A_list)\n",
    "    N -= 6\n",
    "    \n",
    "        \n",
    "A_list = A.copy()    \n",
    "if N <= 6:\n",
    "    for i in range(0,len(A),2):\n",
    "        A_list[i+1] = A_list[i+1]*N\n",
    "    min_cost += min(A_list)\n",
    "    \n",
    "print(min_cost)"
   ]
  },
  {
   "cell_type": "markdown",
   "id": "ff5d2c17",
   "metadata": {},
   "source": [
    "### 1057"
   ]
  },
  {
   "cell_type": "code",
   "execution_count": 731,
   "id": "de46eedd",
   "metadata": {},
   "outputs": [
    {
     "name": "stdout",
     "output_type": "stream",
     "text": [
      "1000 20 31\n",
      "[1, 1, 1, 1, 1, 1, 1, 1, 1, 0, 1, 1, 1, 1, 1, 0, 1, 1, 1, 1, 1, 1, 1, 1, 1, 1, 1, 1, 1, 1, 1, 1, 1, 1, 1, 1, 1, 1, 1, 1, 1, 1, 1, 1, 1, 1, 1, 1, 1, 1, 1, 1, 1, 1, 1, 1, 1, 1, 1, 1, 1, 1, 1, 1, 1, 1, 1, 1, 1, 1, 1, 1, 1, 1, 1, 1, 1, 1, 1, 1, 1, 1, 1, 1, 1, 1, 1, 1, 1, 1, 1, 1, 1, 1, 1, 1, 1, 1, 1, 1, 1, 1, 1, 1, 1, 1, 1, 1, 1, 1, 1, 1, 1, 1, 1, 1, 1, 1, 1, 1, 1, 1, 1, 1, 1, 1, 1, 1, 1, 1, 1, 1, 1, 1, 1, 1, 1, 1, 1, 1, 1, 1, 1, 1, 1, 1, 1, 1, 1, 1, 1, 1, 1, 1, 1, 1, 1, 1, 1, 1, 1, 1, 1, 1, 1, 1, 1, 1, 1, 1, 1, 1, 1, 1, 1, 1, 1, 1, 1, 1, 1, 1, 1, 1, 1, 1, 1, 1, 1, 1, 1, 1, 1, 1, 1, 1, 1, 1, 1, 1, 1, 1, 1, 1, 1, 1, 1, 1, 1, 1, 1, 1, 1, 1, 1, 1, 1, 1, 1, 1, 1, 1, 1, 1, 1, 1, 1, 1, 1, 1, 1, 1, 1, 1, 1, 1, 1, 1, 1, 1, 1, 1, 1, 1, 1, 1, 1, 1, 1, 1, 1, 1, 1, 1, 1, 1, 1, 1, 1, 1, 1, 1, 1, 1, 1, 1, 1, 1, 1, 1, 1, 1, 1, 1, 1, 1, 1, 1, 1, 1, 1, 1, 1, 1, 1, 1, 1, 1, 1, 1, 1, 1, 1, 1, 1, 1, 1, 1, 1, 1, 1, 1, 1, 1, 1, 1, 1, 1, 1, 1, 1, 1, 1, 1, 1, 1, 1, 1, 1, 1, 1, 1, 1, 1, 1, 1, 1, 1, 1, 1, 1, 1, 1, 1, 1, 1, 1, 1, 1, 1, 1, 1, 1, 1, 1, 1, 1, 1, 1, 1, 1, 1, 1, 1, 1, 1, 1, 1, 1, 1, 1, 1, 1, 1, 1, 1, 1, 1, 1, 1, 1, 1, 1, 1, 1, 1, 1, 1, 1, 1, 1, 1, 1, 1, 1, 1, 1, 1, 1, 1, 1, 1, 1, 1, 1, 1, 1, 1, 1, 1, 1, 1, 1, 1, 1, 1, 1, 1, 1, 1, 1, 1, 1, 1, 1, 1, 1, 1, 1, 1, 1, 1, 1, 1, 1, 1, 1, 1, 1, 1, 1, 1, 1, 1, 1, 1, 1, 1, 1, 1, 1, 1, 1, 1, 1, 1, 1, 1, 1, 1, 1, 1, 1, 1, 1, 1, 1, 1, 1, 1, 1, 1, 1, 1, 1, 1, 1, 1, 1, 1, 1, 1, 1, 1, 1, 1, 1, 1, 1, 1, 1, 1, 1, 1, 1, 1, 1, 1, 1, 1, 1, 1, 1, 1, 1, 1, 1, 1, 1, 1]\n",
      "[1, 1, 1, 1, 0, 1, 1, 0, 1, 1, 1, 1, 1, 1, 1, 1, 1, 1, 1, 1, 1, 1, 1, 1, 1, 1, 1, 1, 1, 1, 1, 1, 1, 1, 1, 1, 1, 1, 1, 1, 1, 1, 1, 1, 1, 1, 1, 1, 1, 1, 1, 1, 1, 1, 1, 1, 1, 1, 1, 1, 1, 1, 1, 1, 1, 1, 1, 1, 1, 1, 1, 1, 1, 1, 1, 1, 1, 1, 1, 1, 1, 1, 1, 1, 1, 1, 1, 1, 1, 1, 1, 1, 1, 1, 1, 1, 1, 1, 1, 1, 1, 1, 1, 1, 1, 1, 1, 1, 1, 1, 1, 1, 1, 1, 1, 1, 1, 1, 1, 1, 1, 1, 1, 1, 1, 1, 1, 1, 1, 1, 1, 1, 1, 1, 1, 1, 1, 1, 1, 1, 1, 1, 1, 1, 1, 1, 1, 1, 1, 1, 1, 1, 1, 1, 1, 1, 1, 1, 1, 1, 1, 1, 1, 1, 1, 1, 1, 1, 1, 1, 1, 1, 1, 1, 1, 1, 1, 1, 1, 1, 1, 1, 1, 1, 1, 1, 1, 1, 1, 1, 1, 1, 1, 1, 1, 1, 1, 1, 1, 1, 1, 1, 1, 1, 1, 1, 1, 1, 1, 1, 1, 1, 1, 1, 1, 1, 1, 1, 1, 1, 1, 1, 1, 1, 1, 1, 1, 1, 1, 1, 1, 1, 1, 1, 1, 1, 1, 1, 1, 1, 1, 1, 1, 1, 1, 1, 1, 1, 1, 1]\n",
      "[1, 1, 0, 0, 1, 1, 1, 1, 1, 1, 1, 1, 1, 1, 1, 1, 1, 1, 1, 1, 1, 1, 1, 1, 1, 1, 1, 1, 1, 1, 1, 1, 1, 1, 1, 1, 1, 1, 1, 1, 1, 1, 1, 1, 1, 1, 1, 1, 1, 1, 1, 1, 1, 1, 1, 1, 1, 1, 1, 1, 1, 1, 1, 1, 1, 1, 1, 1, 1, 1, 1, 1, 1, 1, 1, 1, 1, 1, 1, 1, 1, 1, 1, 1, 1, 1, 1, 1, 1, 1, 1, 1, 1, 1, 1, 1, 1, 1, 1, 1, 1, 1, 1, 1, 1, 1, 1, 1, 1, 1, 1, 1, 1, 1, 1, 1, 1, 1, 1, 1, 1, 1, 1, 1, 1]\n",
      "[1]\n",
      "[]\n",
      "5\n"
     ]
    }
   ],
   "source": [
    "N, A, B = map(int,input().split())\n",
    "\n",
    "R = [1 for i in range(N)]\n",
    "R[A-1], R[B-1] = 0, 0\n",
    "\n",
    "ans = 0\n",
    "\n",
    "R_list = []\n",
    "\n",
    "\n",
    "while len(R) > 0 :\n",
    "    if len(R) % 2 == 1:\n",
    "        R = R[:-1]\n",
    "    if len(R) % 2 == 0:\n",
    "        for i in range(0, len(R),2):\n",
    "            if R[i] + R[i+1] == 0:\n",
    "                break\n",
    "            if R[i] + R[i+1] == 1:\n",
    "                R_list.append(0)\n",
    "            if R[i] + R[i+1] == 2:\n",
    "                R_list.append(1)\n",
    "                \n",
    "    if len(R) % 2 == 1:\n",
    "        R_list.append(1)\n",
    "        \n",
    "    R = R_list.copy()\n",
    "    print(R_list)\n",
    "    R_list = []\n",
    "    ans += 1\n",
    "        \n",
    "        \n",
    "#     if len(R) % 2 == 1:\n",
    "#         R = R[:-1]\n",
    "#         for i in range(0, len(R),2):\n",
    "#             if R[i] + R[i+1] == 0:\n",
    "#                 break\n",
    "#             if R[i] + R[i+1] == 1:\n",
    "#                 R_list.append(0)\n",
    "#             if R[i] + R[i+1] == 2:\n",
    "#                 R_list.append(1)\n",
    "#         R_list.append(1)\n",
    "        \n",
    "#         R = R_list.copy()\n",
    "#         print(R_list)\n",
    "#         R_list = []\n",
    "#         ans += 1\n",
    "        \n",
    "        \n",
    "print(ans)"
   ]
  },
  {
   "cell_type": "code",
   "execution_count": 723,
   "id": "a4016ef6",
   "metadata": {},
   "outputs": [
    {
     "data": {
      "text/plain": [
       "5"
      ]
     },
     "execution_count": 723,
     "metadata": {},
     "output_type": "execute_result"
    }
   ],
   "source": [
    "ans"
   ]
  },
  {
   "cell_type": "code",
   "execution_count": null,
   "id": "c90eb670",
   "metadata": {},
   "outputs": [],
   "source": []
  }
 ],
 "metadata": {
  "kernelspec": {
   "display_name": "Python 3 (ipykernel)",
   "language": "python",
   "name": "python3"
  },
  "language_info": {
   "codemirror_mode": {
    "name": "ipython",
    "version": 3
   },
   "file_extension": ".py",
   "mimetype": "text/x-python",
   "name": "python",
   "nbconvert_exporter": "python",
   "pygments_lexer": "ipython3",
   "version": "3.9.13"
  }
 },
 "nbformat": 4,
 "nbformat_minor": 5
}
