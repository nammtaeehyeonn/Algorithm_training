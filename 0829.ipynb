{
 "cells": [
  {
   "cell_type": "markdown",
   "id": "61ad0c09",
   "metadata": {},
   "source": [
    "### 1312"
   ]
  },
  {
   "cell_type": "code",
   "execution_count": 3,
   "id": "8bb3afed",
   "metadata": {},
   "outputs": [
    {
     "name": "stdout",
     "output_type": "stream",
     "text": [
      "25 7 5\n",
      "2\n"
     ]
    }
   ],
   "source": [
    "A, B, N = map(float,input().split())\n",
    "\n",
    "c = 0\n",
    "ANS = []\n",
    "\n",
    "def divider(a,b,n):\n",
    "    global c\n",
    "    Q = a % b\n",
    "    \n",
    "    if Q == 0:\n",
    "        ans = 0\n",
    "        return int(ans)\n",
    "    \n",
    "    while c < n and Q != 0:\n",
    "        Q *= 10\n",
    "        while Q < b:\n",
    "            Q *= 10\n",
    "            ANS.append(0)\n",
    "            c += 1\n",
    "        ans = Q // b\n",
    "        ANS.append(ans)\n",
    "        Q = Q - ( b * ans )\n",
    "        c += 1\n",
    "        \n",
    "    ans = ANS[int(n)-1]\n",
    "    \n",
    "    if len(ANS) < n:\n",
    "        ans = 0\n",
    "        \n",
    "    return int(ans)\n",
    "\n",
    "ans = divider(A,B,N)\n",
    "print(ans)"
   ]
  },
  {
   "cell_type": "markdown",
   "id": "d91667e9",
   "metadata": {},
   "source": [
    "### 1269"
   ]
  },
  {
   "cell_type": "code",
   "execution_count": 4,
   "id": "6f689a8b",
   "metadata": {},
   "outputs": [
    {
     "name": "stdout",
     "output_type": "stream",
     "text": [
      "3 5\n",
      "3 5\n",
      "3 5\n",
      "0\n"
     ]
    }
   ],
   "source": [
    "A, B = map(int,input().split())\n",
    "\n",
    "A_set = set(map(int,input().split()))\n",
    "B_set = set(map(int,input().split()))\n",
    "\n",
    "a = len(A_set - B_set)\n",
    "b = len(B_set - A_set)\n",
    "\n",
    "print(a+b)"
   ]
  },
  {
   "cell_type": "markdown",
   "id": "53433140",
   "metadata": {},
   "source": [
    "### 1302"
   ]
  },
  {
   "cell_type": "code",
   "execution_count": 6,
   "id": "f973b134",
   "metadata": {},
   "outputs": [
    {
     "name": "stdout",
     "output_type": "stream",
     "text": [
      "5\n",
      "4\n",
      "3\n",
      "2\n",
      "1\n",
      "2\n",
      "2\n"
     ]
    }
   ],
   "source": [
    "N = int(input())\n",
    "\n",
    "a = [input() for i in range(N)]\n",
    "a.sort(reverse = True)\n",
    "a_dict = dict()\n",
    "\n",
    "for i in a:\n",
    "    a_dict[a.count(i)] = i\n",
    "\n",
    "print(a_dict[max(a_dict.keys())])"
   ]
  },
  {
   "cell_type": "markdown",
   "id": "df65f790",
   "metadata": {},
   "source": [
    "### 1316"
   ]
  },
  {
   "cell_type": "code",
   "execution_count": null,
   "id": "138d6c59",
   "metadata": {},
   "outputs": [],
   "source": [
    "N = int(input())\n",
    "ANS = []\n",
    "cnt = N\n",
    "\n",
    "for _ in range(N):\n",
    "    A = input()\n",
    "    \n",
    "    for i in range(len(A)):\n",
    "        if A[i] in ANS and ANS[-1] != A[i]:\n",
    "            cnt -= 1\n",
    "            break\n",
    "        ANS.append(A[i])\n",
    "    ANS = []\n",
    "        \n",
    "\n",
    "\n",
    "print(cnt)"
   ]
  },
  {
   "cell_type": "markdown",
   "id": "1be77178",
   "metadata": {},
   "source": [
    "### 1002"
   ]
  },
  {
   "cell_type": "code",
   "execution_count": null,
   "id": "72dca825",
   "metadata": {},
   "outputs": [],
   "source": [
    "N = int(input())\n",
    "ANS = []\n",
    "\n",
    "for i in range(N):\n",
    "    x1,y1,r1,  x2,y2,r2 = map(int,input().split())\n",
    "    \n",
    "    x = abs(x1 - x2)\n",
    "    y = abs(y1 - y2)\n",
    "    z = (x**2 + y**2)**(1/2)\n",
    "    \n",
    "    r = r1 + r2\n",
    "    \n",
    "    if z > r:\n",
    "        ans = 0\n",
    "        \n",
    "    if z == r:\n",
    "        ans = 1\n",
    "        \n",
    "    if z < r:\n",
    "        ans = 2\n",
    "        if max(r1,r2) >= z:\n",
    "            if z + min(r1,r2) > max(r1,r2) or min(r1,r2) == z:\n",
    "                ans = 2\n",
    "            if z + min(r1,r2) == max(r1,r2):\n",
    "                ans = 1\n",
    "            if z + min(r1,r2) < max(r1,r2):\n",
    "                ans = 0\n",
    "    \n",
    "    if x1 == x2 and y1 == y2 and r1 == r2:\n",
    "        ans = -1\n",
    "    \n",
    "    ANS.append(ans)\n",
    "\n",
    "for j in ANS:\n",
    "    print(j)"
   ]
  },
  {
   "cell_type": "markdown",
   "id": "6ad42f67",
   "metadata": {},
   "source": [
    "### 1003"
   ]
  },
  {
   "cell_type": "code",
   "execution_count": 2,
   "id": "7cb526dc",
   "metadata": {},
   "outputs": [
    {
     "name": "stdout",
     "output_type": "stream",
     "text": [
      "0\n"
     ]
    }
   ],
   "source": [
    "T = int(input())\n",
    "ANS = []\n",
    "\n",
    "def fibo(A):\n",
    "    i = 0\n",
    "    ans = [1, 0]\n",
    "    \n",
    "    while A > i:\n",
    "        tmp  = [ans[1]-ans[0],ans[0]]\n",
    "\n",
    "        ans[0] += tmp[0]\n",
    "        ans[1] += tmp[1]\n",
    "        \n",
    "        i += 1\n",
    "        \n",
    "    print(ans[0], ans[1])\n",
    "    return\n",
    "\n",
    "for j in range(T):\n",
    "    ans = fibo(int(input()))"
   ]
  },
  {
   "cell_type": "markdown",
   "id": "6c7af1fc",
   "metadata": {},
   "source": [
    "### 1004"
   ]
  },
  {
   "cell_type": "code",
   "execution_count": 20,
   "id": "10c133b3",
   "metadata": {},
   "outputs": [
    {
     "name": "stdout",
     "output_type": "stream",
     "text": [
      "2\n",
      "-5 1 12 1\n",
      "7\n",
      "1 1 8\n",
      "-3 -1 1\n",
      "2 2 2\n",
      "5 5 1\n",
      "-4 5 1\n",
      "12 1 1\n",
      "12 1 2\n",
      "3\n",
      "-5 1 5 1\n",
      "1\n",
      "0 0 2\n",
      "3\n"
     ]
    }
   ],
   "source": [
    "T = int(input())\n",
    "\n",
    "\n",
    "for _ in range(T):\n",
    "    x1,y1,   x2,y2 = map(int,input().split())\n",
    "    n = int(input())\n",
    "    cnt = 0\n",
    "    for i in range(n):\n",
    "        cx,cy,r = map(int,input().split())\n",
    "        \n",
    "        X1 = abs(x1-cx)\n",
    "        Y1 = abs(y1-cy)\n",
    "        \n",
    "        X2 = abs(x2-cx)\n",
    "        Y2 = abs(y2-cy)\n",
    "    \n",
    "        Z1 = (X1**2 + Y1**2)**(1/2)\n",
    "        Z2 = (X2**2 + Y2**2)**(1/2)\n",
    "        \n",
    "        if min(Z1, Z2) < r and max(Z1,Z2) > r:\n",
    "            cnt += 1\n",
    "    print(cnt)"
   ]
  },
  {
   "cell_type": "code",
   "execution_count": null,
   "id": "0bb2b4f4",
   "metadata": {},
   "outputs": [],
   "source": []
  }
 ],
 "metadata": {
  "kernelspec": {
   "display_name": "Python 3 (ipykernel)",
   "language": "python",
   "name": "python3"
  },
  "language_info": {
   "codemirror_mode": {
    "name": "ipython",
    "version": 3
   },
   "file_extension": ".py",
   "mimetype": "text/x-python",
   "name": "python",
   "nbconvert_exporter": "python",
   "pygments_lexer": "ipython3",
   "version": "3.9.12"
  }
 },
 "nbformat": 4,
 "nbformat_minor": 5
}
