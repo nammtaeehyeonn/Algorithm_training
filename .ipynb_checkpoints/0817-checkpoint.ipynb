{
 "cells": [
  {
   "cell_type": "markdown",
   "id": "c9af1321",
   "metadata": {},
   "source": [
    "### 1059"
   ]
  },
  {
   "cell_type": "code",
   "execution_count": 20,
   "id": "71d88a59",
   "metadata": {},
   "outputs": [
    {
     "name": "stdout",
     "output_type": "stream",
     "text": [
      "4\n",
      "1 7 14 10\n",
      "2\n"
     ]
    }
   ],
   "source": [
    "L = int(input())\n",
    "S = list(map(int,input().split()))\n",
    "n = int(input())"
   ]
  },
  {
   "cell_type": "code",
   "execution_count": null,
   "id": "dfc1ad99",
   "metadata": {},
   "outputs": [],
   "source": [
    "if n in S:\n",
    "    ans = 0\n",
    "print(ans)\n",
    "\n"
   ]
  },
  {
   "cell_type": "code",
   "execution_count": 31,
   "id": "488a15f6",
   "metadata": {},
   "outputs": [],
   "source": [
    "n_up = []\n",
    "n_lo = []\n",
    "\n",
    "for i in range(len(S)):\n",
    "    if S[i] > n:\n",
    "        n_up.append(S[i])\n",
    "    if S[i] < n:\n",
    "        n_lo.append(S[i])\n",
    "\n",
    "A = max(n_lo) + 1\n",
    "B = min(n_up) - 1"
   ]
  },
  {
   "cell_type": "code",
   "execution_count": 32,
   "id": "50856097",
   "metadata": {
    "scrolled": true
   },
   "outputs": [
    {
     "data": {
      "text/plain": [
       "2"
      ]
     },
     "execution_count": 32,
     "metadata": {},
     "output_type": "execute_result"
    }
   ],
   "source": [
    "A"
   ]
  },
  {
   "cell_type": "code",
   "execution_count": 33,
   "id": "86efa6c0",
   "metadata": {
    "scrolled": true
   },
   "outputs": [
    {
     "data": {
      "text/plain": [
       "6"
      ]
     },
     "execution_count": 33,
     "metadata": {},
     "output_type": "execute_result"
    }
   ],
   "source": [
    "B"
   ]
  },
  {
   "cell_type": "code",
   "execution_count": 88,
   "id": "f1973a9b",
   "metadata": {
    "scrolled": true
   },
   "outputs": [
    {
     "name": "stdout",
     "output_type": "stream",
     "text": [
      "3\n",
      "1 2 10\n",
      "5\n",
      "3 5\n",
      "3 6\n",
      "3 7\n",
      "3 8\n",
      "3 9\n",
      "4 5\n",
      "4 6\n",
      "4 7\n",
      "4 8\n",
      "4 9\n",
      "5 6\n",
      "5 7\n",
      "5 8\n",
      "5 9\n",
      "14\n"
     ]
    }
   ],
   "source": [
    "L = int(input())\n",
    "S = list(map(int,input().split()))\n",
    "n = int(input())\n",
    "\n",
    "n_up = []\n",
    "n_lo = []\n",
    "ANS = []\n",
    "ans = 0\n",
    "\n",
    "for i in range(len(S)):\n",
    "    if S[i] > n:\n",
    "        n_up.append(S[i])\n",
    "    if S[i] < n:\n",
    "        n_lo.append(S[i])\n",
    "\n",
    "A = max(n_lo) + 1\n",
    "B = min(n_up) - 1\n",
    "\n",
    "\n",
    "for i in range(A, B+1):\n",
    "    for j in range(i+1, B+1):\n",
    "        a = [i,j]\n",
    "        ANS.append(a)\n",
    "\n",
    "for i in ANS:\n",
    "#     print(i)\n",
    "    if n in [i for i in range(i[0],i[1]+1)]:\n",
    "        ans += 1\n",
    "        print(i[0], i[1])\n",
    "        \n",
    "if n in S:\n",
    "    ans = 0\n",
    "print(ans)"
   ]
  },
  {
   "cell_type": "code",
   "execution_count": null,
   "id": "ab622024",
   "metadata": {},
   "outputs": [],
   "source": [
    "L = int(input())\n",
    "S = list(map(int,input().split()))\n",
    "n = int(input())\n",
    "\n",
    "n_up = []\n",
    "n_lo = []\n",
    "ANS = []\n",
    "ans = 0\n",
    "\n",
    "for i in S:\n",
    "    if i > n and n_up > i:\n",
    "        n_up = i\n",
    "    if i < n and n_lo < i:\n",
    "        n_lo = i\n",
    "\n",
    "A = max(n_lo) + 1\n",
    "B = min(n_up) - 1\n",
    "\n",
    "\n",
    "for i in range(A, B+1):\n",
    "    for j in range(i+1, B+1):\n",
    "        a = [i,j]\n",
    "        ANS.append(a)\n",
    "\n",
    "for i in ANS:\n",
    "#     print(i)\n",
    "    if n in [i for i in range(i[0],i[1]+1)]:\n",
    "        ans += 1\n",
    "        print(i[0], i[1])\n",
    "        \n",
    "if n in S:\n",
    "    ans = 0\n",
    "print(ans)"
   ]
  },
  {
   "cell_type": "code",
   "execution_count": 109,
   "id": "1f6fe58e",
   "metadata": {},
   "outputs": [
    {
     "name": "stdout",
     "output_type": "stream",
     "text": [
      "1 7 14 10\n",
      "9\n"
     ]
    }
   ],
   "source": [
    "S = list(map(int,input().split()))\n",
    "n = int(input())\n",
    "n_up = 1001\n",
    "n_lo = 0\n",
    "\n",
    "for i in S:\n",
    "    if i > n and n_up > i:\n",
    "        n_up = i\n",
    "    if i < n and n_lo < i:\n",
    "        n_lo = i"
   ]
  },
  {
   "cell_type": "code",
   "execution_count": 125,
   "id": "086af758",
   "metadata": {},
   "outputs": [
    {
     "name": "stdout",
     "output_type": "stream",
     "text": [
      "1\n",
      "1 7 14 10\n",
      "2\n",
      "4\n"
     ]
    }
   ],
   "source": [
    "L = int(input())\n",
    "S = list(map(int,input().split()))\n",
    "n = int(input())\n",
    "\n",
    "B = 1001\n",
    "A = 0\n",
    "ANS = []\n",
    "ans = 0\n",
    "\n",
    "for i in S:\n",
    "    if i > n and B > i:\n",
    "        B = i\n",
    "    if i < n and A < i:\n",
    "        A = i+1\n",
    "\n",
    "# A = max(n_lo) + 1\n",
    "# B = min(n_up) - 1\n",
    "\n",
    "\n",
    "for i in range(A, B):\n",
    "    for j in range(i+1, B):\n",
    "        a = [i,j]\n",
    "        ANS.append(a)\n",
    "\n",
    "for i in ANS:\n",
    "#     print(i)\n",
    "    if n in [i for i in range(i[0],i[1]+1)]:\n",
    "        ans += 1\n",
    "#         print(i[0], i[1])\n",
    "        \n",
    "if n in S:\n",
    "    ans = 0\n",
    "print(ans)"
   ]
  },
  {
   "cell_type": "code",
   "execution_count": 122,
   "id": "811f0c88",
   "metadata": {},
   "outputs": [
    {
     "data": {
      "text/plain": [
       "2"
      ]
     },
     "execution_count": 122,
     "metadata": {},
     "output_type": "execute_result"
    }
   ],
   "source": [
    "A"
   ]
  },
  {
   "cell_type": "code",
   "execution_count": 123,
   "id": "2e107b35",
   "metadata": {},
   "outputs": [
    {
     "data": {
      "text/plain": [
       "7"
      ]
     },
     "execution_count": 123,
     "metadata": {},
     "output_type": "execute_result"
    }
   ],
   "source": [
    "B"
   ]
  },
  {
   "cell_type": "code",
   "execution_count": null,
   "id": "a8cce8e9",
   "metadata": {},
   "outputs": [],
   "source": []
  }
 ],
 "metadata": {
  "kernelspec": {
   "display_name": "Python 3 (ipykernel)",
   "language": "python",
   "name": "python3"
  },
  "language_info": {
   "codemirror_mode": {
    "name": "ipython",
    "version": 3
   },
   "file_extension": ".py",
   "mimetype": "text/x-python",
   "name": "python",
   "nbconvert_exporter": "python",
   "pygments_lexer": "ipython3",
   "version": "3.9.13"
  }
 },
 "nbformat": 4,
 "nbformat_minor": 5
}
