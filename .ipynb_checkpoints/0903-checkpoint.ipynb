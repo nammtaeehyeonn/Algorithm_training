{
 "cells": [
  {
   "cell_type": "markdown",
   "id": "56778905",
   "metadata": {},
   "source": [
    "### 2606"
   ]
  },
  {
   "cell_type": "code",
   "execution_count": 118,
   "id": "782fc1a4",
   "metadata": {},
   "outputs": [
    {
     "name": "stdout",
     "output_type": "stream",
     "text": [
      "7\n",
      "6\n",
      "1 2\n",
      "2 3\n",
      "1 5\n",
      "5 6\n",
      "5 2\n",
      "4 7\n",
      "4\n"
     ]
    }
   ],
   "source": [
    "N = int(input())\n",
    "M = int(input())\n",
    "C = [[] for _ in range(N+1)]\n",
    "visited = [0] * (N+1)\n",
    "\n",
    "for _ in range(M):\n",
    "    a, b = map(int, input().split())\n",
    "    C[a].append(b)\n",
    "    C[b].append(a)\n",
    "    C[a].sort()\n",
    "\n",
    "    \n",
    "def dfs(value):\n",
    "    visited[value] = 1\n",
    "    \n",
    "    for i in C[value]:\n",
    "        if visited[i]==0:\n",
    "            dfs(i)\n",
    "    return\n",
    "dfs(1)\n",
    "print(sum(visited)-1)"
   ]
  },
  {
   "cell_type": "markdown",
   "id": "c2949ce8",
   "metadata": {},
   "source": [
    "### 1431"
   ]
  },
  {
   "cell_type": "code",
   "execution_count": null,
   "id": "3c29f4d1",
   "metadata": {},
   "outputs": [],
   "source": [
    "5\n",
    "ABCD\n",
    "145C\n",
    "A\n",
    "A910\n",
    "Z321"
   ]
  },
  {
   "cell_type": "code",
   "execution_count": 213,
   "id": "a2e9e3fc",
   "metadata": {},
   "outputs": [
    {
     "name": "stdout",
     "output_type": "stream",
     "text": [
      "5\n",
      "ABCD\n",
      "145C\n",
      "A\n",
      "A910\n",
      "Z321\n"
     ]
    }
   ],
   "source": [
    "ANS = []\n",
    "ANS_dict = {}\n",
    "for i in range(int(input())):\n",
    "    a = input()\n",
    "    ANS.append(a)\n",
    "    ANS_dict[a] = len(a)\n",
    "\n",
    "# ANS = sorted(sorted(ANS), key = len)\n",
    "    "
   ]
  },
  {
   "cell_type": "code",
   "execution_count": 214,
   "id": "c759935d",
   "metadata": {},
   "outputs": [],
   "source": [
    "cnt = [0] * len(ANS)\n",
    "for i in range(len(ANS)):\n",
    "    for j in ANS[i]:\n",
    "        if ord(j) < 65:\n",
    "            cnt[i] += ord(j)"
   ]
  },
  {
   "cell_type": "code",
   "execution_count": 215,
   "id": "0f964eae",
   "metadata": {},
   "outputs": [
    {
     "data": {
      "text/plain": [
       "[0, 154, 0, 154, 150]"
      ]
     },
     "execution_count": 215,
     "metadata": {},
     "output_type": "execute_result"
    }
   ],
   "source": [
    "cnt"
   ]
  },
  {
   "cell_type": "code",
   "execution_count": 216,
   "id": "43e04aa0",
   "metadata": {},
   "outputs": [
    {
     "data": {
      "text/plain": [
       "['A', 'ABCD', '145C', 'A910', 'Z321']"
      ]
     },
     "execution_count": 216,
     "metadata": {},
     "output_type": "execute_result"
    }
   ],
   "source": [
    "sorted(ANS_dict, key = len)"
   ]
  },
  {
   "cell_type": "code",
   "execution_count": 217,
   "id": "68880a8a",
   "metadata": {},
   "outputs": [
    {
     "data": {
      "text/plain": [
       "[1, 4, 4, 4, 4]"
      ]
     },
     "execution_count": 217,
     "metadata": {},
     "output_type": "execute_result"
    }
   ],
   "source": [
    "sorted(ANS_dict.values())"
   ]
  },
  {
   "cell_type": "code",
   "execution_count": 226,
   "id": "e720deb1",
   "metadata": {},
   "outputs": [],
   "source": [
    "ANS_dict2 = {}\n",
    "for i,j in zip(sorted(ANS_dict, key = len), sorted(ANS_dict.values())):\n",
    "    ANS_dict2[i] = j"
   ]
  },
  {
   "cell_type": "code",
   "execution_count": 227,
   "id": "03d77746",
   "metadata": {
    "scrolled": true
   },
   "outputs": [
    {
     "data": {
      "text/plain": [
       "{'ABCD': 4, '145C': 4, 'A': 1, 'A910': 4, 'Z321': 4}"
      ]
     },
     "execution_count": 227,
     "metadata": {},
     "output_type": "execute_result"
    }
   ],
   "source": [
    "ANS_dict"
   ]
  },
  {
   "cell_type": "code",
   "execution_count": 228,
   "id": "b1c5cbe0",
   "metadata": {},
   "outputs": [
    {
     "data": {
      "text/plain": [
       "{'A': 1, 'ABCD': 4, '145C': 4, 'A910': 4, 'Z321': 4}"
      ]
     },
     "execution_count": 228,
     "metadata": {},
     "output_type": "execute_result"
    }
   ],
   "source": [
    "ANS_dict2"
   ]
  },
  {
   "cell_type": "code",
   "execution_count": 247,
   "id": "f66e25b6",
   "metadata": {
    "scrolled": true
   },
   "outputs": [],
   "source": [
    "cnt = [0] * len(ANS)\n",
    "ANS_dict3 = {}\n",
    "for i,n in zip(ANS_dict2.keys(), range(len(cnt))):\n",
    "    for j in i:\n",
    "        if ord(j) < 65:\n",
    "            cnt[n] += ord(j)\n",
    "            \n",
    "    for i, j in zip(ANS_dict2.keys(), cnt):\n",
    "        ANS_dict3[i] = j"
   ]
  },
  {
   "cell_type": "code",
   "execution_count": 248,
   "id": "b69af044",
   "metadata": {},
   "outputs": [
    {
     "name": "stdout",
     "output_type": "stream",
     "text": [
      "A\n",
      "ABCD\n",
      "145C\n",
      "A910\n",
      "Z321\n"
     ]
    }
   ],
   "source": [
    "for i in ANS_dict2.keys():\n",
    "    print(i)"
   ]
  },
  {
   "cell_type": "code",
   "execution_count": 249,
   "id": "dfe67ee8",
   "metadata": {},
   "outputs": [
    {
     "data": {
      "text/plain": [
       "[0, 0, 154, 154, 150]"
      ]
     },
     "execution_count": 249,
     "metadata": {},
     "output_type": "execute_result"
    }
   ],
   "source": [
    "cnt"
   ]
  },
  {
   "cell_type": "code",
   "execution_count": 250,
   "id": "a0d0498f",
   "metadata": {},
   "outputs": [
    {
     "data": {
      "text/plain": [
       "{'A': 1, 'ABCD': 4, '145C': 4, 'A910': 4, 'Z321': 4}"
      ]
     },
     "execution_count": 250,
     "metadata": {},
     "output_type": "execute_result"
    }
   ],
   "source": [
    "ANS_dict2"
   ]
  },
  {
   "cell_type": "code",
   "execution_count": 267,
   "id": "73cc580b",
   "metadata": {},
   "outputs": [
    {
     "ename": "TypeError",
     "evalue": "'dict_values' object is not callable",
     "output_type": "error",
     "traceback": [
      "\u001b[1;31m---------------------------------------------------------------------------\u001b[0m",
      "\u001b[1;31mTypeError\u001b[0m                                 Traceback (most recent call last)",
      "\u001b[1;32m~\\AppData\\Local\\Temp\\ipykernel_23520\\795540154.py\u001b[0m in \u001b[0;36m<module>\u001b[1;34m\u001b[0m\n\u001b[1;32m----> 1\u001b[1;33m \u001b[0msorted\u001b[0m\u001b[1;33m(\u001b[0m\u001b[0mANS_dict3\u001b[0m\u001b[1;33m,\u001b[0m \u001b[0mkey\u001b[0m \u001b[1;33m=\u001b[0m \u001b[0mANS_dict3\u001b[0m\u001b[1;33m.\u001b[0m\u001b[0mvalues\u001b[0m\u001b[1;33m(\u001b[0m\u001b[1;33m)\u001b[0m\u001b[1;33m)\u001b[0m\u001b[1;33m\u001b[0m\u001b[1;33m\u001b[0m\u001b[0m\n\u001b[0m",
      "\u001b[1;31mTypeError\u001b[0m: 'dict_values' object is not callable"
     ]
    }
   ],
   "source": [
    "sorted(ANS_dict3, key = ANS_dict3.values())"
   ]
  },
  {
   "cell_type": "code",
   "execution_count": null,
   "id": "efec4d77",
   "metadata": {},
   "outputs": [],
   "source": []
  }
 ],
 "metadata": {
  "kernelspec": {
   "display_name": "Python 3 (ipykernel)",
   "language": "python",
   "name": "python3"
  },
  "language_info": {
   "codemirror_mode": {
    "name": "ipython",
    "version": 3
   },
   "file_extension": ".py",
   "mimetype": "text/x-python",
   "name": "python",
   "nbconvert_exporter": "python",
   "pygments_lexer": "ipython3",
   "version": "3.9.13"
  }
 },
 "nbformat": 4,
 "nbformat_minor": 5
}
