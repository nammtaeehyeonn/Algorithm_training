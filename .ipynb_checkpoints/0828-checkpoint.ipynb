{
 "cells": [
  {
   "cell_type": "markdown",
   "id": "e0ac0f50",
   "metadata": {},
   "source": [
    "### 1244"
   ]
  },
  {
   "cell_type": "code",
   "execution_count": 263,
   "id": "88dd3b55",
   "metadata": {
    "scrolled": true
   },
   "outputs": [
    {
     "name": "stdout",
     "output_type": "stream",
     "text": [
      "3\n",
      "0 0 1\n",
      "2\n",
      "1 4\n",
      "2 3\n",
      "0 0 0 "
     ]
    }
   ],
   "source": [
    "N = int(input())\n",
    "S = list(map(int,input().split()))\n",
    "# C = int(input())\n",
    "\n",
    "for i in range(int(input())):\n",
    "    g, n = map(int,input().split())\n",
    "    \n",
    "    if g == 1:\n",
    "        for k in range(N):\n",
    "            if (k+1) % n == 0:\n",
    "                S[k] += 1\n",
    "                \n",
    "    if g == 2:\n",
    "        S[n-1] += 1\n",
    "        A, B = n-2, n\n",
    "        if B != 1 and B != N:\n",
    "            while S[A] == S[B]:\n",
    "                S[A] += 1\n",
    "                S[B] += 1\n",
    "\n",
    "                A -= 1\n",
    "                B += 1\n",
    "                if A < 0 or B > N:\n",
    "                    break\n",
    "\n",
    "\n",
    "    for i in range(len(S)):\n",
    "        if S[i] % 2 == 0:\n",
    "            S[i] = 0\n",
    "        if S[i] % 2 != 0:\n",
    "            S[i] = 1\n",
    "    \n",
    "\n",
    "for i in range(len(S)):\n",
    "    print(S[i], end=\" \")\n",
    "    if (i+1) % 20 == 0:\n",
    "        print()"
   ]
  },
  {
   "cell_type": "code",
   "execution_count": 262,
   "id": "e5dbae90",
   "metadata": {},
   "outputs": [
    {
     "name": "stdout",
     "output_type": "stream",
     "text": [
      "3\n",
      "0 0 1\n",
      "2\n",
      "1 4\n",
      "2 3\n",
      "0 0 0 "
     ]
    }
   ],
   "source": [
    "n = int(input())\n",
    "switch = [0] + list(map(int, input().split())) # 스위치 상태 저장\n",
    "\n",
    "# 스위치 바꾸는 함수\n",
    "def change(x):\n",
    "    global switch\n",
    "    switch[x] = abs(switch[x]-1)\n",
    "\n",
    "\n",
    "for _ in range(int(input())):\n",
    "    gender, no = map(int, input().split())\n",
    "    i = 1\n",
    "    # 남자일 때\n",
    "    if gender == 1:\n",
    "        while no * i <= n:\n",
    "            change(no * i)\n",
    "            i += 1\n",
    "    # 여자일 때\n",
    "    elif gender == 2:\n",
    "        change(no)\n",
    "        while 1 <= no-i and no+i <= n and switch[no-i] == switch[no+i]:\n",
    "            change(no-i)\n",
    "            change(no+i)\n",
    "            i += 1\n",
    "\n",
    "# 출력\n",
    "for i in range(1, n+1):\n",
    "    print(switch[i], end=\" \")\n",
    "    if not i % 20:\n",
    "        print()"
   ]
  },
  {
   "cell_type": "markdown",
   "id": "6116eeba",
   "metadata": {},
   "source": [
    "### 1246"
   ]
  },
  {
   "cell_type": "code",
   "execution_count": 359,
   "id": "d9c7a80b",
   "metadata": {
    "scrolled": true
   },
   "outputs": [
    {
     "name": "stdout",
     "output_type": "stream",
     "text": [
      "2 4\n",
      "2\n",
      "3\n",
      "4\n",
      "5\n",
      "4 8\n"
     ]
    }
   ],
   "source": [
    "N, M = map(int,input().split())\n",
    "\n",
    "M_list = [int(input()) for i in range(M)]\n",
    "# M_list.sort()\n",
    "\n",
    "for j in range(M):\n",
    "    for i in range(0, M-j-1):\n",
    "        if M_list[i] > M_list[i+1]:\n",
    "            tmp = M_list[i]\n",
    "            M_list[i] = M_list[i+1]\n",
    "            M_list[i+1] = tmp\n",
    "\n",
    "\n",
    "ans = 0\n",
    "if N < M:\n",
    "    for i,j in zip(M_list[(-1*N):],range(N,0,-1)):\n",
    "        if i*j >= ans:\n",
    "            A = i\n",
    "            ans = i*j\n",
    "    \n",
    "if N >= M:\n",
    "    for i,j in zip(M_list, range(M, 0,-1)):\n",
    "        if i*j >= ans:\n",
    "            A = i\n",
    "            ans = i*j\n",
    "        \n",
    "print(A,ans)"
   ]
  },
  {
   "cell_type": "markdown",
   "id": "4ad2c77e",
   "metadata": {},
   "source": [
    "### 1251 // 아직..."
   ]
  },
  {
   "cell_type": "code",
   "execution_count": 629,
   "id": "3e7d8a4c",
   "metadata": {
    "scrolled": true
   },
   "outputs": [
    {
     "name": "stdout",
     "output_type": "stream",
     "text": [
      "safnbaskjfbasdh\n",
      "asabnfhdsabfjks\n"
     ]
    }
   ],
   "source": [
    "N = input()\n",
    "N_ascii = []\n",
    "N_index = [i for i in range(len(N))]\n",
    "ANS=[]\n",
    "\n",
    "for i in N:\n",
    "    N_ascii.append(ord(i))\n",
    "\n",
    "m = N_index[N_ascii.index(min(N_ascii))]\n",
    "\n",
    "if len(N) > 3:\n",
    "    N_ascii_1 = N_ascii[:-2]\n",
    "    N_index_1 = N_index[:-2]\n",
    "    m_1 = N_index_1[N_ascii_1.index(min(N_ascii_1))]\n",
    "    \n",
    "    ans_1 = N[:m_1+1]\n",
    "    \n",
    "    N_1 = N[m_1+1:]\n",
    "    if len(N_1) != 2:\n",
    "        N_index_1 = N_index[m+1:]\n",
    "        N_ascii_1 = N_ascii[m+1:]\n",
    "\n",
    "\n",
    "\n",
    "        N_ascii_2 = N_ascii_1[:-1]\n",
    "        N_index_2 = N_index_1[:-1]\n",
    "        m_2 = N_ascii_2.index(min(N_ascii_2))\n",
    "\n",
    "        ans_2 = N_1[:m_2+1]\n",
    "        ans_3 = N_1[m_2+1:]\n",
    "    \n",
    "    if len(N_1) == 2:\n",
    "        ans_2 = N_1[-2]\n",
    "        ans_3 = N_1[-1]\n",
    "        \n",
    "\n",
    "ans_1 = ans_1[::-1]\n",
    "ans_2 = ans_2[::-1]\n",
    "ans_3 = ans_3[::-1]\n",
    "\n",
    "print(ans_1+ans_2+ans_3)"
   ]
  },
  {
   "cell_type": "code",
   "execution_count": 630,
   "id": "2a5e0d63",
   "metadata": {},
   "outputs": [
    {
     "name": "stdout",
     "output_type": "stream",
     "text": [
      "as\n",
      "abnf\n",
      "hdsabfjks\n"
     ]
    }
   ],
   "source": [
    "print(ans_1)\n",
    "print(ans_2)\n",
    "print(ans_3)"
   ]
  },
  {
   "cell_type": "code",
   "execution_count": 617,
   "id": "c75c377f",
   "metadata": {
    "scrolled": true
   },
   "outputs": [
    {
     "name": "stdout",
     "output_type": "stream",
     "text": [
      "cbad\n",
      "ad\n",
      "\n",
      "[99, 98, 97, 100]\n",
      "[99, 98]\n",
      "[]\n",
      "\n",
      "[0, 1, 2, 3]\n",
      "[0, 1]\n",
      "[]\n",
      "\n",
      "1\n",
      "2\n",
      "\n",
      "cb\n",
      "a\n",
      "d\n"
     ]
    }
   ],
   "source": [
    "print(N)\n",
    "print(N_1)\n",
    "print()\n",
    "print(N_ascii)\n",
    "print(N_ascii_1)\n",
    "print(N_ascii_2)\n",
    "print()\n",
    "print(N_index)\n",
    "print(N_index_1)\n",
    "print(N_index_2)\n",
    "print()\n",
    "print(m_1)\n",
    "print(m_2)\n",
    "print()\n",
    "print(ans_1)\n",
    "print(ans_2)\n",
    "print(ans_3)"
   ]
  },
  {
   "cell_type": "markdown",
   "id": "dd7b6074",
   "metadata": {},
   "source": [
    "### 1312"
   ]
  },
  {
   "cell_type": "code",
   "execution_count": 648,
   "id": "bf0b887a",
   "metadata": {},
   "outputs": [
    {
     "name": "stdout",
     "output_type": "stream",
     "text": [
      "25 7 5\n"
     ]
    }
   ],
   "source": [
    "A, B, N = map(int,input().split())\n",
    "\n",
    "ans = A/B\n",
    "# ans = str(ans).split(\".\")[-1]\n",
    "# print(int(ans[N-1]))\n",
    "\n"
   ]
  },
  {
   "cell_type": "code",
   "execution_count": 664,
   "id": "2f3a5591",
   "metadata": {
    "scrolled": true
   },
   "outputs": [
    {
     "data": {
      "text/plain": [
       "3.5714285714285716"
      ]
     },
     "execution_count": 664,
     "metadata": {},
     "output_type": "execute_result"
    }
   ],
   "source": [
    "round(ans,60)"
   ]
  },
  {
   "cell_type": "code",
   "execution_count": 665,
   "id": "cd9f7cb5",
   "metadata": {},
   "outputs": [
    {
     "data": {
      "text/plain": [
       "3"
      ]
     },
     "execution_count": 665,
     "metadata": {},
     "output_type": "execute_result"
    }
   ],
   "source": [
    "25//7"
   ]
  },
  {
   "cell_type": "code",
   "execution_count": 666,
   "id": "4c70a7df",
   "metadata": {},
   "outputs": [
    {
     "data": {
      "text/plain": [
       "0.5714285714285714"
      ]
     },
     "execution_count": 666,
     "metadata": {},
     "output_type": "execute_result"
    }
   ],
   "source": [
    "def divider(a,b,n):\n",
    "    \n",
    "    while c \n",
    "#     ans = a // b\n",
    "    tra = a % b\n",
    "    if tra == 0:\n",
    "        ans = 0\n",
    "    \n",
    "    tra"
   ]
  },
  {
   "cell_type": "code",
   "execution_count": 670,
   "id": "3e865517",
   "metadata": {},
   "outputs": [
    {
     "data": {
      "text/plain": [
       "4"
      ]
     },
     "execution_count": 670,
     "metadata": {},
     "output_type": "execute_result"
    }
   ],
   "source": [
    "60%8"
   ]
  },
  {
   "cell_type": "code",
   "execution_count": null,
   "id": "15d267a1",
   "metadata": {},
   "outputs": [],
   "source": []
  }
 ],
 "metadata": {
  "kernelspec": {
   "display_name": "Python 3 (ipykernel)",
   "language": "python",
   "name": "python3"
  },
  "language_info": {
   "codemirror_mode": {
    "name": "ipython",
    "version": 3
   },
   "file_extension": ".py",
   "mimetype": "text/x-python",
   "name": "python",
   "nbconvert_exporter": "python",
   "pygments_lexer": "ipython3",
   "version": "3.9.13"
  }
 },
 "nbformat": 4,
 "nbformat_minor": 5
}
