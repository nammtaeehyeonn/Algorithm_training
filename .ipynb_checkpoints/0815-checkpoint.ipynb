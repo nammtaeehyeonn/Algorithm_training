{
 "cells": [
  {
   "cell_type": "markdown",
   "id": "7f88c44e",
   "metadata": {},
   "source": [
    "### 10810"
   ]
  },
  {
   "cell_type": "code",
   "execution_count": 35,
   "id": "e20890c8",
   "metadata": {},
   "outputs": [
    {
     "name": "stdout",
     "output_type": "stream",
     "text": [
      "5 4 \n",
      "1 2 3\n",
      "3 4 4\n",
      "1 4 1\n",
      "2 2 2\n",
      "1 2 1 1 0 "
     ]
    }
   ],
   "source": [
    "N, M = map(int,input().split())\n",
    "L = []\n",
    "for i in range(N):\n",
    "    L.append(0)\n",
    "\n",
    "for a in range(M):\n",
    "    i, j, k = map(int,input().split())\n",
    "    if i != j:\n",
    "        for b in range(i-1,j):\n",
    "            L[b] = k\n",
    "    if i == j:\n",
    "        L[i-1] = k\n",
    "        \n",
    "for i in range(len(L)):\n",
    "    print(L[i], end=\" \")"
   ]
  },
  {
   "cell_type": "markdown",
   "id": "9dfec4cd",
   "metadata": {},
   "source": [
    "### 1546"
   ]
  },
  {
   "cell_type": "code",
   "execution_count": 52,
   "id": "331a04bb",
   "metadata": {},
   "outputs": [
    {
     "name": "stdout",
     "output_type": "stream",
     "text": [
      "3\n",
      "40 80 60\n"
     ]
    },
    {
     "data": {
      "text/plain": [
       "75.0"
      ]
     },
     "execution_count": 52,
     "metadata": {},
     "output_type": "execute_result"
    }
   ],
   "source": [
    "N = int(input())\n",
    "L = list(map(int,input().split()))\n",
    "M = max(L)\n",
    "\n",
    "for j in range(len(L)):\n",
    "    L[j] = L[j]/M*100\n",
    "\n",
    "print(sum(L)/len(L))"
   ]
  },
  {
   "cell_type": "markdown",
   "id": "feb129af",
   "metadata": {},
   "source": [
    "### 2675"
   ]
  },
  {
   "cell_type": "code",
   "execution_count": 68,
   "id": "8aa7cab9",
   "metadata": {},
   "outputs": [
    {
     "name": "stdout",
     "output_type": "stream",
     "text": [
      "2\n",
      "3 ABC\n",
      "3 asd\n",
      "AAABBBCCC\n",
      "aaasssddd\n"
     ]
    }
   ],
   "source": [
    "T = int(input())\n",
    "a = \"\"\n",
    "A = []\n",
    "for i in range(T):\n",
    "    R, S = input().split()\n",
    "    R = int(R)\n",
    "    for j in S:\n",
    "        a += j*R\n",
    "    A.append(a)\n",
    "    a = \"\"\n",
    "\n",
    "\n",
    "for i in A:\n",
    "    print(i)"
   ]
  },
  {
   "cell_type": "markdown",
   "id": "ec9452c1",
   "metadata": {},
   "source": [
    "### 10988"
   ]
  },
  {
   "cell_type": "code",
   "execution_count": 134,
   "id": "769c142f",
   "metadata": {
    "scrolled": true
   },
   "outputs": [
    {
     "name": "stdout",
     "output_type": "stream",
     "text": [
      "qeq\n",
      "1\n"
     ]
    }
   ],
   "source": [
    "N = input()\n",
    "\n",
    "a = len(N)//2\n",
    "if a == 0:\n",
    "    print('1')\n",
    "    \n",
    "if a != 0:\n",
    "    for i,j in zip(range(a), range(len(N)-1, a-1,-1)):\n",
    "        if N[i] == N[j]:\n",
    "            A = 1\n",
    "        if N[i] != N[j]:\n",
    "            A = 0\n",
    "            break\n",
    "    print(A)"
   ]
  },
  {
   "cell_type": "markdown",
   "id": "7465bc1c",
   "metadata": {},
   "source": [
    "### 10811"
   ]
  },
  {
   "cell_type": "code",
   "execution_count": 208,
   "id": "56049201",
   "metadata": {
    "scrolled": true
   },
   "outputs": [
    {
     "name": "stdout",
     "output_type": "stream",
     "text": [
      "5 4\n",
      "1 2\n",
      "3 4\n",
      "1 4\n",
      "2 2\n",
      "3 4 1 2 5 "
     ]
    }
   ],
   "source": [
    "N, M = map(int,input().split())\n",
    "A = [i+1 for i in range(N)]\n",
    "B = []\n",
    "\n",
    "if len(A) == 1:\n",
    "    print(A[0])\n",
    "\n",
    "if len(A) != 1:\n",
    "    for a in range(M):\n",
    "        i, j = map(int, input().split())\n",
    "        for b in range(j-1, i-2, -1):\n",
    "            B.append(A[b])\n",
    "        for c, d in zip(range(i-1, j), B):\n",
    "            A[c] = d\n",
    "        B = []\n",
    "#         print(A)\n",
    "\n",
    "    for i in A:\n",
    "        print(i, end = \" \")"
   ]
  }
 ],
 "metadata": {
  "kernelspec": {
   "display_name": "Python 3 (ipykernel)",
   "language": "python",
   "name": "python3"
  },
  "language_info": {
   "codemirror_mode": {
    "name": "ipython",
    "version": 3
   },
   "file_extension": ".py",
   "mimetype": "text/x-python",
   "name": "python",
   "nbconvert_exporter": "python",
   "pygments_lexer": "ipython3",
   "version": "3.9.13"
  }
 },
 "nbformat": 4,
 "nbformat_minor": 5
}
