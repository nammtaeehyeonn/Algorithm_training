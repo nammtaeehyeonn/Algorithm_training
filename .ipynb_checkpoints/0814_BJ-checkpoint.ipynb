{
 "cells": [
  {
   "cell_type": "markdown",
   "id": "79e46f4e",
   "metadata": {},
   "source": [
    "# 28702"
   ]
  },
  {
   "cell_type": "code",
   "execution_count": 198,
   "id": "8e6d18dc",
   "metadata": {},
   "outputs": [
    {
     "name": "stdout",
     "output_type": "stream",
     "text": [
      "Buzz\n",
      "26\n",
      "Fizz\n",
      "28\n"
     ]
    }
   ],
   "source": [
    "A = []\n",
    "for i in range(3):\n",
    "    A.append(input())\n",
    "    \n",
    "# 처음\n",
    "if A[0] == 'FizzBuzz':\n",
    "    a = int(A[2])+1\n",
    "    \n",
    "# 중간\n",
    "if A[1] == 'FizzBuzz':\n",
    "    a = int(A[2])+1\n",
    "    \n",
    "# 마지막\n",
    "if A[2]=='FizzBuzz':\n",
    "    a = int(A[1])+2\n",
    "\n",
    "# 처음\n",
    "if A[0]=='Fizz' or A[0]=='Buzz':\n",
    "    if A[1] == 'Buzz' or A[1]=='Fizz':\n",
    "         a = int(A[2])+1\n",
    "    elif A[2] == 'Buzz' or A[2]=='Fizz':\n",
    "         a = int(A[1])+2\n",
    "    else:\n",
    "        a = int(A[2])+1\n",
    "        \n",
    "# 중간\n",
    "if A[1]=='Fizz' or A[1]=='Buzz':\n",
    "    if A[0] == 'Buzz' or A[0]=='Fizz':\n",
    "         a = int(A[2])+1\n",
    "    elif A[2] == 'Buzz' or A[2]=='Fizz':\n",
    "         a = int(A[0])+3\n",
    "    else:\n",
    "        a = int(A[2])+1\n",
    "        \n",
    "# 마지막\n",
    "if A[2]=='Fizz' or A[2]=='Buzz':\n",
    "    if A[0] == 'Buzz' or A[0]=='Fizz':\n",
    "         a = int(A[1])+2\n",
    "    elif A[1] == 'Buzz' or A[1]=='Fizz':\n",
    "         a = int(A[0])+3\n",
    "    else:\n",
    "        a = int(A[1])+2\n",
    "        \n",
    "if a % 3 == 0 and a % 5 != 0:\n",
    "    print(\"Fizz\")\n",
    "if a % 5 == 0 and a % 3 != 0:\n",
    "    print(\"Buzz\")\n",
    "if a % 15 == 0:\n",
    "    print(\"FizzBuzz\")\n",
    "if a % 3 != 0 and a % 5 != 0:\n",
    "    print(a)"
   ]
  },
  {
   "cell_type": "markdown",
   "id": "c827c14f",
   "metadata": {},
   "source": [
    "### Fizzbuzz"
   ]
  },
  {
   "cell_type": "code",
   "execution_count": 168,
   "id": "025396a0",
   "metadata": {},
   "outputs": [],
   "source": [
    "# 처음\n",
    "if A[0] == 'FizzBuzz':\n",
    "    a = A[2]+1"
   ]
  },
  {
   "cell_type": "code",
   "execution_count": 169,
   "id": "b54e0135",
   "metadata": {},
   "outputs": [],
   "source": [
    "# 중간\n",
    "if A[1] == 'FizzBuzz':\n",
    "    a = A[2]+1"
   ]
  },
  {
   "cell_type": "code",
   "execution_count": 170,
   "id": "17f99228",
   "metadata": {},
   "outputs": [],
   "source": [
    "# 마지막\n",
    "if A[2]=='FizzBuzz':\n",
    "    a = A[1]+2"
   ]
  },
  {
   "cell_type": "markdown",
   "id": "47b9cbf6",
   "metadata": {},
   "source": [
    "### Fizz or Buzz"
   ]
  },
  {
   "cell_type": "code",
   "execution_count": 171,
   "id": "5f62eada",
   "metadata": {
    "collapsed": true
   },
   "outputs": [
    {
     "ename": "TypeError",
     "evalue": "can only concatenate str (not \"int\") to str",
     "output_type": "error",
     "traceback": [
      "\u001b[1;31m---------------------------------------------------------------------------\u001b[0m",
      "\u001b[1;31mTypeError\u001b[0m                                 Traceback (most recent call last)",
      "\u001b[1;32m~\\AppData\\Local\\Temp\\ipykernel_25544\\953392814.py\u001b[0m in \u001b[0;36m<module>\u001b[1;34m\u001b[0m\n\u001b[0;32m      2\u001b[0m \u001b[1;32mif\u001b[0m \u001b[0mA\u001b[0m\u001b[1;33m[\u001b[0m\u001b[1;36m0\u001b[0m\u001b[1;33m]\u001b[0m\u001b[1;33m==\u001b[0m\u001b[1;34m'Fizz'\u001b[0m\u001b[1;33m:\u001b[0m\u001b[1;33m\u001b[0m\u001b[1;33m\u001b[0m\u001b[0m\n\u001b[0;32m      3\u001b[0m     \u001b[1;32mif\u001b[0m \u001b[0mA\u001b[0m\u001b[1;33m[\u001b[0m\u001b[1;36m1\u001b[0m\u001b[1;33m]\u001b[0m \u001b[1;33m==\u001b[0m \u001b[1;34m'Buzz'\u001b[0m\u001b[1;33m:\u001b[0m\u001b[1;33m\u001b[0m\u001b[1;33m\u001b[0m\u001b[0m\n\u001b[1;32m----> 4\u001b[1;33m          \u001b[0ma\u001b[0m \u001b[1;33m=\u001b[0m \u001b[0mA\u001b[0m\u001b[1;33m[\u001b[0m\u001b[1;36m2\u001b[0m\u001b[1;33m]\u001b[0m\u001b[1;33m+\u001b[0m\u001b[1;36m1\u001b[0m\u001b[1;33m\u001b[0m\u001b[1;33m\u001b[0m\u001b[0m\n\u001b[0m\u001b[0;32m      5\u001b[0m     \u001b[1;32melif\u001b[0m \u001b[0mA\u001b[0m\u001b[1;33m[\u001b[0m\u001b[1;36m2\u001b[0m\u001b[1;33m]\u001b[0m \u001b[1;33m==\u001b[0m \u001b[1;34m'Buzz'\u001b[0m\u001b[1;33m:\u001b[0m\u001b[1;33m\u001b[0m\u001b[1;33m\u001b[0m\u001b[0m\n\u001b[0;32m      6\u001b[0m          \u001b[0ma\u001b[0m \u001b[1;33m=\u001b[0m \u001b[0mA\u001b[0m\u001b[1;33m[\u001b[0m\u001b[1;36m1\u001b[0m\u001b[1;33m]\u001b[0m\u001b[1;33m+\u001b[0m\u001b[1;36m2\u001b[0m\u001b[1;33m\u001b[0m\u001b[1;33m\u001b[0m\u001b[0m\n",
      "\u001b[1;31mTypeError\u001b[0m: can only concatenate str (not \"int\") to str"
     ]
    }
   ],
   "source": [
    "# 처음\n",
    "if A[0]=='Fizz' or A[0]=='Buzz':\n",
    "    if A[1] == 'Buzz' or A[0]=='Fizz':\n",
    "         a = A[2]+1\n",
    "    elif A[2] == 'Buzz' or A[0]=='Fizz':\n",
    "         a = A[1]+2\n",
    "    else:\n",
    "        a = A[2]+1"
   ]
  },
  {
   "cell_type": "code",
   "execution_count": null,
   "id": "ed9c61a6",
   "metadata": {},
   "outputs": [],
   "source": [
    "# 중간\n",
    "if A[1]=='Fizz' or A[0]=='Buzz':\n",
    "    if A[0] == 'Buzz' or A[0]=='Fizz':\n",
    "         a = A[2]+1\n",
    "    elif A[2] == 'Buzz' or A[0]=='Fizz':\n",
    "         a = A[0]+3\n",
    "    else:\n",
    "        a = A[2]+1"
   ]
  },
  {
   "cell_type": "code",
   "execution_count": null,
   "id": "ecd10431",
   "metadata": {},
   "outputs": [],
   "source": [
    "# 마지막\n",
    "if A[2]=='Fizz':\n",
    "    if A[0] == 'Buzz':\n",
    "         a = A[2]+1\n",
    "    elif A[1] == 'Buzz':\n",
    "         a = A[0]+3\n",
    "    else:\n",
    "        a = A[1]+2"
   ]
  },
  {
   "cell_type": "code",
   "execution_count": 157,
   "id": "2ed17eae",
   "metadata": {},
   "outputs": [
    {
     "name": "stdout",
     "output_type": "stream",
     "text": [
      "Fizz\n"
     ]
    }
   ],
   "source": [
    "if a % 3 == 0 and a % 5 != 0:\n",
    "    print(\"Fizz\")\n",
    "if a % 5 == 0 and a % 3 != 0:\n",
    "    print(\"Buzz\")\n",
    "if a % 15 == 0:\n",
    "    print(\"FizzBuzz\")"
   ]
  },
  {
   "cell_type": "markdown",
   "id": "260cc082",
   "metadata": {},
   "source": [
    "# 1152"
   ]
  },
  {
   "cell_type": "code",
   "execution_count": 202,
   "id": "2357fde9",
   "metadata": {},
   "outputs": [
    {
     "name": "stdout",
     "output_type": "stream",
     "text": [
      "asd asdg asg\n",
      "3\n"
     ]
    }
   ],
   "source": [
    "N = input().split()\n",
    "print(len(N))"
   ]
  },
  {
   "cell_type": "markdown",
   "id": "98e36ca7",
   "metadata": {},
   "source": [
    "# 1157"
   ]
  },
  {
   "cell_type": "code",
   "execution_count": 492,
   "id": "5293cee7",
   "metadata": {},
   "outputs": [
    {
     "name": "stdout",
     "output_type": "stream",
     "text": [
      "qwewqewqeqwe\n",
      "?\n"
     ]
    }
   ],
   "source": [
    "N = input().upper()\n",
    "q = list(N)\n",
    "q.sort()\n",
    "num = []\n",
    "set_q = set(q)\n",
    "\n",
    "for i in set_q:\n",
    "    num.extend([i+1 for i in range(q.count(i))])\n",
    "    \n",
    "if num.count(max(num)) == 1:\n",
    "    print(q[num.index(max(num))])\n",
    "if num.count(max(num)) != 1:\n",
    "    print('?')"
   ]
  },
  {
   "cell_type": "code",
   "execution_count": null,
   "id": "f18be794",
   "metadata": {},
   "outputs": [],
   "source": []
  }
 ],
 "metadata": {
  "kernelspec": {
   "display_name": "Python 3 (ipykernel)",
   "language": "python",
   "name": "python3"
  },
  "language_info": {
   "codemirror_mode": {
    "name": "ipython",
    "version": 3
   },
   "file_extension": ".py",
   "mimetype": "text/x-python",
   "name": "python",
   "nbconvert_exporter": "python",
   "pygments_lexer": "ipython3",
   "version": "3.9.13"
  }
 },
 "nbformat": 4,
 "nbformat_minor": 5
}
