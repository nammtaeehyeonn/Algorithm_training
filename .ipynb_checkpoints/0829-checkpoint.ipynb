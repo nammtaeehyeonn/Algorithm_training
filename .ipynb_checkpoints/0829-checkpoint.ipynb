{
 "cells": [
  {
   "cell_type": "markdown",
   "id": "61ad0c09",
   "metadata": {},
   "source": [
    "### 1312"
   ]
  },
  {
   "cell_type": "code",
   "execution_count": 3,
   "id": "8bb3afed",
   "metadata": {},
   "outputs": [
    {
     "name": "stdout",
     "output_type": "stream",
     "text": [
      "25 7 5\n",
      "2\n"
     ]
    }
   ],
   "source": [
    "A, B, N = map(float,input().split())\n",
    "\n",
    "c = 0\n",
    "ANS = []\n",
    "\n",
    "def divider(a,b,n):\n",
    "    global c\n",
    "    Q = a % b\n",
    "    \n",
    "    if Q == 0:\n",
    "        ans = 0\n",
    "        return int(ans)\n",
    "    \n",
    "    while c < n and Q != 0:\n",
    "        Q *= 10\n",
    "        while Q < b:\n",
    "            Q *= 10\n",
    "            ANS.append(0)\n",
    "            c += 1\n",
    "        ans = Q // b\n",
    "        ANS.append(ans)\n",
    "        Q = Q - ( b * ans )\n",
    "        c += 1\n",
    "        \n",
    "    ans = ANS[int(n)-1]\n",
    "    \n",
    "    if len(ANS) < n:\n",
    "        ans = 0\n",
    "        \n",
    "    return int(ans)\n",
    "\n",
    "ans = divider(A,B,N)\n",
    "print(ans)"
   ]
  },
  {
   "cell_type": "markdown",
   "id": "d91667e9",
   "metadata": {},
   "source": [
    "### 1269"
   ]
  },
  {
   "cell_type": "code",
   "execution_count": 4,
   "id": "6f689a8b",
   "metadata": {},
   "outputs": [
    {
     "name": "stdout",
     "output_type": "stream",
     "text": [
      "3 5\n",
      "3 5\n",
      "3 5\n",
      "0\n"
     ]
    }
   ],
   "source": [
    "A, B = map(int,input().split())\n",
    "\n",
    "A_set = set(map(int,input().split()))\n",
    "B_set = set(map(int,input().split()))\n",
    "\n",
    "a = len(A_set - B_set)\n",
    "b = len(B_set - A_set)\n",
    "\n",
    "print(a+b)"
   ]
  },
  {
   "cell_type": "markdown",
   "id": "53433140",
   "metadata": {},
   "source": [
    "### 1302"
   ]
  },
  {
   "cell_type": "code",
   "execution_count": 6,
   "id": "f973b134",
   "metadata": {},
   "outputs": [
    {
     "name": "stdout",
     "output_type": "stream",
     "text": [
      "5\n",
      "4\n",
      "3\n",
      "2\n",
      "1\n",
      "2\n",
      "2\n"
     ]
    }
   ],
   "source": [
    "N = int(input())\n",
    "\n",
    "a = [input() for i in range(N)]\n",
    "a.sort(reverse = True)\n",
    "a_dict = dict()\n",
    "\n",
    "for i in a:\n",
    "    a_dict[a.count(i)] = i\n",
    "\n",
    "print(a_dict[max(a_dict.keys())])"
   ]
  },
  {
   "cell_type": "markdown",
   "id": "df65f790",
   "metadata": {},
   "source": [
    "### 1316"
   ]
  },
  {
   "cell_type": "code",
   "execution_count": null,
   "id": "138d6c59",
   "metadata": {},
   "outputs": [],
   "source": [
    "N = int(input())\n",
    "ANS = []\n",
    "cnt = N\n",
    "\n",
    "for _ in range(N):\n",
    "    A = input()\n",
    "    \n",
    "    for i in range(len(A)):\n",
    "        if A[i] in ANS and ANS[-1] != A[i]:\n",
    "            cnt -= 1\n",
    "            break\n",
    "        ANS.append(A[i])\n",
    "    ANS = []\n",
    "        \n",
    "\n",
    "\n",
    "print(cnt)"
   ]
  },
  {
   "cell_type": "markdown",
   "id": "1be77178",
   "metadata": {},
   "source": [
    "### 1002"
   ]
  },
  {
   "cell_type": "code",
   "execution_count": null,
   "id": "72dca825",
   "metadata": {},
   "outputs": [],
   "source": [
    "N = int(input())\n",
    "ANS = []\n",
    "\n",
    "for i in range(N):\n",
    "    x1,y1,r1,  x2,y2,r2 = map(int,input().split())\n",
    "    \n",
    "    x = abs(x1 - x2)\n",
    "    y = abs(y1 - y2)\n",
    "    z = (x**2 + y**2)**(1/2)\n",
    "    \n",
    "    r = r1 + r2\n",
    "    \n",
    "    if z > r:\n",
    "        ans = 0\n",
    "        \n",
    "    if z == r:\n",
    "        ans = 1\n",
    "        \n",
    "    if z < r:\n",
    "        ans = 2\n",
    "        if max(r1,r2) >= z:\n",
    "            if z + min(r1,r2) > max(r1,r2) or min(r1,r2) == z:\n",
    "                ans = 2\n",
    "            if z + min(r1,r2) == max(r1,r2):\n",
    "                ans = 1\n",
    "            if z + min(r1,r2) < max(r1,r2):\n",
    "                ans = 0\n",
    "    \n",
    "    if x1 == x2 and y1 == y2 and r1 == r2:\n",
    "        ans = -1\n",
    "    \n",
    "    ANS.append(ans)\n",
    "\n",
    "for j in ANS:\n",
    "    print(j)"
   ]
  },
  {
   "cell_type": "markdown",
   "id": "6ad42f67",
   "metadata": {},
   "source": [
    "### 1003"
   ]
  },
  {
   "cell_type": "code",
   "execution_count": 2,
   "id": "7cb526dc",
   "metadata": {},
   "outputs": [
    {
     "name": "stdout",
     "output_type": "stream",
     "text": [
      "0\n"
     ]
    }
   ],
   "source": [
    "T = int(input())\n",
    "ANS = []\n",
    "\n",
    "def fibo(A):\n",
    "    i = 0\n",
    "    ans = [1, 0]\n",
    "    \n",
    "    while A > i:\n",
    "        tmp  = [ans[1]-ans[0],ans[0]]\n",
    "\n",
    "        ans[0] += tmp[0]\n",
    "        ans[1] += tmp[1]\n",
    "        \n",
    "        i += 1\n",
    "        \n",
    "    print(ans[0], ans[1])\n",
    "    return\n",
    "\n",
    "for j in range(T):\n",
    "    ans = fibo(int(input()))"
   ]
  },
  {
   "cell_type": "markdown",
   "id": "6c7af1fc",
   "metadata": {},
   "source": [
    "### 1004"
   ]
  },
  {
   "cell_type": "code",
   "execution_count": 20,
   "id": "10c133b3",
   "metadata": {},
   "outputs": [
    {
     "name": "stdout",
     "output_type": "stream",
     "text": [
      "2\n",
      "-5 1 12 1\n",
      "7\n",
      "1 1 8\n",
      "-3 -1 1\n",
      "2 2 2\n",
      "5 5 1\n",
      "-4 5 1\n",
      "12 1 1\n",
      "12 1 2\n",
      "3\n",
      "-5 1 5 1\n",
      "1\n",
      "0 0 2\n",
      "3\n"
     ]
    }
   ],
   "source": [
    "T = int(input())\n",
    "\n",
    "\n",
    "for _ in range(T):\n",
    "    x1,y1,   x2,y2 = map(int,input().split())\n",
    "    n = int(input())\n",
    "    cnt = 0\n",
    "    for i in range(n):\n",
    "        cx,cy,r = map(int,input().split())\n",
    "        \n",
    "        X1 = abs(x1-cx)\n",
    "        Y1 = abs(y1-cy)\n",
    "        \n",
    "        X2 = abs(x2-cx)\n",
    "        Y2 = abs(y2-cy)\n",
    "    \n",
    "        Z1 = (X1**2 + Y1**2)**(1/2)\n",
    "        Z2 = (X2**2 + Y2**2)**(1/2)\n",
    "        \n",
    "        if min(Z1, Z2) < r and max(Z1,Z2) > r:\n",
    "            cnt += 1\n",
    "    print(cnt)"
   ]
  },
  {
   "cell_type": "markdown",
   "id": "fb494547",
   "metadata": {},
   "source": [
    "### 1021"
   ]
  },
  {
   "cell_type": "code",
   "execution_count": 164,
   "id": "cd2f48f6",
   "metadata": {},
   "outputs": [
    {
     "name": "stdout",
     "output_type": "stream",
     "text": [
      "10 3\n",
      "2 9 5\n",
      "8\n"
     ]
    }
   ],
   "source": [
    "N, M = map(int,input().split())\n",
    "A = list(map(int,input().split()))\n",
    "\n",
    "N_list = [i+1 for i in range(N)]\n",
    "cnt = 0\n",
    "for i in range(M):\n",
    "    if len(N_list) // 2 >= (N_list.index(A[i])):\n",
    "        while N_list[0] != A[i]:\n",
    "            tmp = N_list[0]\n",
    "            N_list = N_list[1:]\n",
    "            N_list.append(tmp)\n",
    "            cnt +=1\n",
    "            \n",
    "    if len(N_list) // 2 < (N_list.index(A[i])):\n",
    "        while N_list[0] != A[i]:\n",
    "            tmp = N_list[-1]\n",
    "            N_list = N_list[:-1]\n",
    "            N_list.insert(0,tmp)\n",
    "            cnt +=1\n",
    "            \n",
    "    N_list = N_list[1:]\n",
    "print(cnt)"
   ]
  },
  {
   "cell_type": "markdown",
   "id": "e07a07f0",
   "metadata": {},
   "source": [
    "### 1012"
   ]
  },
  {
   "cell_type": "code",
   "execution_count": 166,
   "id": "789b6279",
   "metadata": {},
   "outputs": [],
   "source": [
    "import numpy as np"
   ]
  },
  {
   "cell_type": "code",
   "execution_count": 189,
   "id": "6edf9de6",
   "metadata": {},
   "outputs": [],
   "source": [
    "A = np.zeros(80).reshape((8,10))\n",
    "A= A.astype(int)"
   ]
  },
  {
   "cell_type": "code",
   "execution_count": 190,
   "id": "59f5b5db",
   "metadata": {},
   "outputs": [
    {
     "data": {
      "text/plain": [
       "array([[0, 0, 0, 0, 0, 0, 0, 0, 0, 0],\n",
       "       [0, 0, 0, 0, 0, 0, 0, 0, 0, 0],\n",
       "       [0, 0, 0, 0, 0, 0, 0, 0, 0, 0],\n",
       "       [0, 0, 0, 0, 0, 0, 0, 0, 0, 0],\n",
       "       [0, 0, 0, 0, 0, 0, 0, 0, 0, 0],\n",
       "       [0, 0, 0, 0, 0, 0, 0, 0, 0, 0],\n",
       "       [0, 0, 0, 0, 0, 0, 0, 0, 0, 0],\n",
       "       [0, 0, 0, 0, 0, 0, 0, 0, 0, 0]])"
      ]
     },
     "execution_count": 190,
     "metadata": {},
     "output_type": "execute_result"
    }
   ],
   "source": [
    "A"
   ]
  },
  {
   "cell_type": "code",
   "execution_count": 191,
   "id": "66625f0b",
   "metadata": {},
   "outputs": [
    {
     "name": "stdout",
     "output_type": "stream",
     "text": [
      "0 0\n",
      "1 0\n",
      "1 1\n",
      "4 2\n",
      "4 3\n",
      "4 5\n",
      "2 4\n",
      "3 4\n",
      "7 4\n",
      "8 4\n",
      "9 4\n",
      "7 5\n",
      "8 5\n",
      "9 5\n",
      "7 6\n",
      "8 6\n",
      "9 6\n"
     ]
    }
   ],
   "source": [
    "for i in range(17):\n",
    "    a,b = map(int,input().split())\n",
    "    \n",
    "    A[b][a] = 1"
   ]
  },
  {
   "cell_type": "code",
   "execution_count": 192,
   "id": "b16eaba2",
   "metadata": {
    "scrolled": true
   },
   "outputs": [
    {
     "data": {
      "text/plain": [
       "array([[1, 1, 0, 0, 0, 0, 0, 0, 0, 0],\n",
       "       [0, 1, 0, 0, 0, 0, 0, 0, 0, 0],\n",
       "       [0, 0, 0, 0, 1, 0, 0, 0, 0, 0],\n",
       "       [0, 0, 0, 0, 1, 0, 0, 0, 0, 0],\n",
       "       [0, 0, 1, 1, 0, 0, 0, 1, 1, 1],\n",
       "       [0, 0, 0, 0, 1, 0, 0, 1, 1, 1],\n",
       "       [0, 0, 0, 0, 0, 0, 0, 1, 1, 1],\n",
       "       [0, 0, 0, 0, 0, 0, 0, 0, 0, 0]])"
      ]
     },
     "execution_count": 192,
     "metadata": {},
     "output_type": "execute_result"
    }
   ],
   "source": [
    "A"
   ]
  },
  {
   "cell_type": "code",
   "execution_count": 210,
   "id": "43e50863",
   "metadata": {
    "collapsed": true
   },
   "outputs": [
    {
     "name": "stdout",
     "output_type": "stream",
     "text": [
      "2\n",
      "10 8 17\n",
      "0 0\n",
      "1 0\n",
      "한마리 추가 : 16\n",
      "1 1\n",
      "한마리 추가 : 15\n",
      "4 2\n",
      "4 3\n",
      "한마리 추가 : 14\n",
      "4 5\n",
      "2 4\n",
      "3 4\n",
      "한마리 추가 : 13\n",
      "7 4\n",
      "8 4\n",
      "한마리 추가 : 12\n",
      "9 4\n",
      "한마리 추가 : 11\n",
      "7 5\n",
      "한마리 추가 : 10\n",
      "8 5\n",
      "한마리 추가 : 9\n",
      "한마리 추가 : 8\n",
      "9 5\n",
      "한마리 추가 : 7\n",
      "한마리 추가 : 6\n",
      "7 6\n",
      "한마리 추가 : 5\n",
      "8 6\n",
      "한마리 추가 : 4\n",
      "한마리 추가 : 3\n",
      "7 6\n",
      "한마리 추가 : 2\n",
      "2\n",
      "9 6\n"
     ]
    },
    {
     "ename": "ValueError",
     "evalue": "not enough values to unpack (expected 3, got 2)",
     "output_type": "error",
     "traceback": [
      "\u001b[1;31m---------------------------------------------------------------------------\u001b[0m",
      "\u001b[1;31mValueError\u001b[0m                                Traceback (most recent call last)",
      "\u001b[1;32m~\\AppData\\Local\\Temp\\ipykernel_17900\\3510861014.py\u001b[0m in \u001b[0;36m<module>\u001b[1;34m\u001b[0m\n\u001b[0;32m      4\u001b[0m     \u001b[0mcnt\u001b[0m \u001b[1;33m=\u001b[0m \u001b[1;36m17\u001b[0m\u001b[1;33m\u001b[0m\u001b[1;33m\u001b[0m\u001b[0m\n\u001b[0;32m      5\u001b[0m     \u001b[0mANS\u001b[0m \u001b[1;33m=\u001b[0m \u001b[1;33m[\u001b[0m\u001b[1;33m]\u001b[0m\u001b[1;33m\u001b[0m\u001b[1;33m\u001b[0m\u001b[0m\n\u001b[1;32m----> 6\u001b[1;33m     \u001b[0mM\u001b[0m\u001b[1;33m,\u001b[0m\u001b[0mN\u001b[0m\u001b[1;33m,\u001b[0m\u001b[0mK\u001b[0m \u001b[1;33m=\u001b[0m \u001b[0mmap\u001b[0m\u001b[1;33m(\u001b[0m\u001b[0mint\u001b[0m\u001b[1;33m,\u001b[0m\u001b[0minput\u001b[0m\u001b[1;33m(\u001b[0m\u001b[1;33m)\u001b[0m\u001b[1;33m.\u001b[0m\u001b[0msplit\u001b[0m\u001b[1;33m(\u001b[0m\u001b[1;33m)\u001b[0m\u001b[1;33m)\u001b[0m\u001b[1;33m\u001b[0m\u001b[1;33m\u001b[0m\u001b[0m\n\u001b[0m\u001b[0;32m      7\u001b[0m \u001b[1;33m\u001b[0m\u001b[0m\n\u001b[0;32m      8\u001b[0m     \u001b[1;32mfor\u001b[0m \u001b[0mi\u001b[0m \u001b[1;32min\u001b[0m \u001b[0mrange\u001b[0m\u001b[1;33m(\u001b[0m\u001b[0mK\u001b[0m\u001b[1;33m)\u001b[0m\u001b[1;33m:\u001b[0m\u001b[1;33m\u001b[0m\u001b[1;33m\u001b[0m\u001b[0m\n",
      "\u001b[1;31mValueError\u001b[0m: not enough values to unpack (expected 3, got 2)"
     ]
    }
   ],
   "source": [
    "T = int(input())\n",
    "\n",
    "for _ in range(T):\n",
    "    cnt = 17\n",
    "    ANS = []\n",
    "    M,N,K = map(int,input().split())\n",
    "    \n",
    "    for i in range(K):\n",
    "        ans = list(map(int,input().split()))\n",
    "        ANS.append(ans)\n",
    "#         cnt += 1\n",
    "        \n",
    "        for j in ANS:\n",
    "            if ans[0] == j[0] or ans[1] == j[1]:\n",
    "                if (ans[0] - j[0]) + (ans[1] - j[1]) == 1:\n",
    "                    cnt -= 1\n",
    "                    print(f\"한마리 추가 : {cnt}\")\n",
    "                    \n",
    "    print(cnt)\n",
    "    "
   ]
  },
  {
   "cell_type": "code",
   "execution_count": 204,
   "id": "e08a22a9",
   "metadata": {
    "scrolled": true
   },
   "outputs": [
    {
     "data": {
      "text/plain": [
       "9"
      ]
     },
     "execution_count": 204,
     "metadata": {},
     "output_type": "execute_result"
    }
   ],
   "source": [
    "ans[0]"
   ]
  },
  {
   "cell_type": "code",
   "execution_count": 401,
   "id": "aa68d219",
   "metadata": {},
   "outputs": [
    {
     "name": "stdout",
     "output_type": "stream",
     "text": [
      "1\n",
      "10 8 5\n",
      "0 0\n",
      "1 0\n",
      "{0: [[0, 0], [1, 0]], 1: [[1, 0]]}\n",
      "1 1\n",
      "{0: [[0, 0], [1, 0], [1, 1]], 1: [[1, 0]], 2: [[1, 1]]}\n"
     ]
    },
    {
     "ename": "KeyboardInterrupt",
     "evalue": "Interrupted by user",
     "output_type": "error",
     "traceback": [
      "\u001b[1;31m---------------------------------------------------------------------------\u001b[0m",
      "\u001b[1;31mKeyboardInterrupt\u001b[0m                         Traceback (most recent call last)",
      "\u001b[1;32m~\\AppData\\Local\\Temp\\ipykernel_17900\\77320672.py\u001b[0m in \u001b[0;36m<module>\u001b[1;34m\u001b[0m\n\u001b[0;32m     17\u001b[0m     \u001b[1;32mfor\u001b[0m \u001b[0mi\u001b[0m \u001b[1;32min\u001b[0m \u001b[0mrange\u001b[0m\u001b[1;33m(\u001b[0m\u001b[0mK\u001b[0m\u001b[1;33m)\u001b[0m\u001b[1;33m:\u001b[0m\u001b[1;33m\u001b[0m\u001b[1;33m\u001b[0m\u001b[0m\n\u001b[0;32m     18\u001b[0m         \u001b[0mtmp\u001b[0m \u001b[1;33m=\u001b[0m \u001b[0mANS\u001b[0m\u001b[1;33m\u001b[0m\u001b[1;33m\u001b[0m\u001b[0m\n\u001b[1;32m---> 19\u001b[1;33m         \u001b[0mans\u001b[0m \u001b[1;33m=\u001b[0m \u001b[0mlist\u001b[0m\u001b[1;33m(\u001b[0m\u001b[0mmap\u001b[0m\u001b[1;33m(\u001b[0m\u001b[0mint\u001b[0m\u001b[1;33m,\u001b[0m\u001b[0minput\u001b[0m\u001b[1;33m(\u001b[0m\u001b[1;33m)\u001b[0m\u001b[1;33m.\u001b[0m\u001b[0msplit\u001b[0m\u001b[1;33m(\u001b[0m\u001b[1;33m)\u001b[0m\u001b[1;33m)\u001b[0m\u001b[1;33m)\u001b[0m\u001b[1;33m\u001b[0m\u001b[1;33m\u001b[0m\u001b[0m\n\u001b[0m\u001b[0;32m     20\u001b[0m \u001b[1;33m\u001b[0m\u001b[0m\n\u001b[0;32m     21\u001b[0m         \u001b[0ma\u001b[0m\u001b[1;33m,\u001b[0m\u001b[0mb\u001b[0m\u001b[1;33m,\u001b[0m\u001b[0mc\u001b[0m\u001b[1;33m,\u001b[0m\u001b[0md\u001b[0m \u001b[1;33m=\u001b[0m \u001b[0mfour\u001b[0m\u001b[1;33m(\u001b[0m\u001b[0mans\u001b[0m\u001b[1;33m)\u001b[0m\u001b[1;33m\u001b[0m\u001b[1;33m\u001b[0m\u001b[0m\n",
      "\u001b[1;32mE:\\anaconda\\lib\\site-packages\\ipykernel\\kernelbase.py\u001b[0m in \u001b[0;36mraw_input\u001b[1;34m(self, prompt)\u001b[0m\n\u001b[0;32m   1175\u001b[0m                 \u001b[1;34m\"raw_input was called, but this frontend does not support input requests.\"\u001b[0m\u001b[1;33m\u001b[0m\u001b[1;33m\u001b[0m\u001b[0m\n\u001b[0;32m   1176\u001b[0m             )\n\u001b[1;32m-> 1177\u001b[1;33m         return self._input_request(\n\u001b[0m\u001b[0;32m   1178\u001b[0m             \u001b[0mstr\u001b[0m\u001b[1;33m(\u001b[0m\u001b[0mprompt\u001b[0m\u001b[1;33m)\u001b[0m\u001b[1;33m,\u001b[0m\u001b[1;33m\u001b[0m\u001b[1;33m\u001b[0m\u001b[0m\n\u001b[0;32m   1179\u001b[0m             \u001b[0mself\u001b[0m\u001b[1;33m.\u001b[0m\u001b[0m_parent_ident\u001b[0m\u001b[1;33m[\u001b[0m\u001b[1;34m\"shell\"\u001b[0m\u001b[1;33m]\u001b[0m\u001b[1;33m,\u001b[0m\u001b[1;33m\u001b[0m\u001b[1;33m\u001b[0m\u001b[0m\n",
      "\u001b[1;32mE:\\anaconda\\lib\\site-packages\\ipykernel\\kernelbase.py\u001b[0m in \u001b[0;36m_input_request\u001b[1;34m(self, prompt, ident, parent, password)\u001b[0m\n\u001b[0;32m   1217\u001b[0m             \u001b[1;32mexcept\u001b[0m \u001b[0mKeyboardInterrupt\u001b[0m\u001b[1;33m:\u001b[0m\u001b[1;33m\u001b[0m\u001b[1;33m\u001b[0m\u001b[0m\n\u001b[0;32m   1218\u001b[0m                 \u001b[1;31m# re-raise KeyboardInterrupt, to truncate traceback\u001b[0m\u001b[1;33m\u001b[0m\u001b[1;33m\u001b[0m\u001b[0m\n\u001b[1;32m-> 1219\u001b[1;33m                 \u001b[1;32mraise\u001b[0m \u001b[0mKeyboardInterrupt\u001b[0m\u001b[1;33m(\u001b[0m\u001b[1;34m\"Interrupted by user\"\u001b[0m\u001b[1;33m)\u001b[0m \u001b[1;32mfrom\u001b[0m \u001b[1;32mNone\u001b[0m\u001b[1;33m\u001b[0m\u001b[1;33m\u001b[0m\u001b[0m\n\u001b[0m\u001b[0;32m   1220\u001b[0m             \u001b[1;32mexcept\u001b[0m \u001b[0mException\u001b[0m\u001b[1;33m:\u001b[0m\u001b[1;33m\u001b[0m\u001b[1;33m\u001b[0m\u001b[0m\n\u001b[0;32m   1221\u001b[0m                 \u001b[0mself\u001b[0m\u001b[1;33m.\u001b[0m\u001b[0mlog\u001b[0m\u001b[1;33m.\u001b[0m\u001b[0mwarning\u001b[0m\u001b[1;33m(\u001b[0m\u001b[1;34m\"Invalid Message:\"\u001b[0m\u001b[1;33m,\u001b[0m \u001b[0mexc_info\u001b[0m\u001b[1;33m=\u001b[0m\u001b[1;32mTrue\u001b[0m\u001b[1;33m)\u001b[0m\u001b[1;33m\u001b[0m\u001b[1;33m\u001b[0m\u001b[0m\n",
      "\u001b[1;31mKeyboardInterrupt\u001b[0m: Interrupted by user"
     ]
    }
   ],
   "source": [
    "T = int(input())\n",
    "\n",
    "def four(ans):\n",
    "    a = [ans[0]-1,ans[1]]\n",
    "    b = [ans[0],ans[1]-1]\n",
    "    c = [ans[0]+1,ans[1]]\n",
    "    d = [ans[0],ans[1]+1]\n",
    "    \n",
    "    return a,b,c,d\n",
    "\n",
    "for _ in range(T):\n",
    "    cnt = 0\n",
    "    M,N,K = map(int,input().split())\n",
    "    ANS = dict()\n",
    "    cnt = 0\n",
    "    \n",
    "    for i in range(K):  \n",
    "        tmp = ANS\n",
    "        ans = list(map(int,input().split()))\n",
    "        \n",
    "        a,b,c,d = four(ans)\n",
    "        \n",
    "        if i == 0:\n",
    "            ANS[i] = [ans]\n",
    "            continue\n",
    "        \n",
    "        for j in range(len(ANS)):            \n",
    "            if a in ANS[j] or b in ANS[j] or c in ANS[j] or d in ANS[j]:\n",
    "                ANS[j].append(ans)\n",
    "                break\n",
    "                \n",
    "        if tmp == ANS:\n",
    "            ANS[max(ANS.keys())+1] = [ans]\n",
    "        \n",
    "        print(ANS)\n",
    "#             for k in range(len(ANS[j])):\n",
    "#                 if ans[0] == ANS[j][k][0] or ans[1] == ANS[j][k][1]:\n",
    "#                     if abs(ans[0] - ANS[j][k][0]) + abs(ans[1] - ANS[j][k][1]) == 1:\n",
    "#                         ANS[j].append(ans)\n",
    "#                         break\n",
    "            \n",
    "\n",
    "                    \n",
    "\n",
    "                \n"
   ]
  },
  {
   "cell_type": "code",
   "execution_count": 398,
   "id": "6123531e",
   "metadata": {},
   "outputs": [
    {
     "name": "stdout",
     "output_type": "stream",
     "text": [
      "[0, 6]\n",
      "[1, 5]\n",
      "[2, 6]\n",
      "[1, 7]\n"
     ]
    }
   ],
   "source": [
    "print(a)\n",
    "print(b)\n",
    "print(c)\n",
    "print(d)"
   ]
  },
  {
   "cell_type": "code",
   "execution_count": 405,
   "id": "d10743a2",
   "metadata": {},
   "outputs": [
    {
     "data": {
      "text/plain": [
       "{0: [[0, 0], [1, 0], [1, 1]], 1: [[1, 0]], 2: [[1, 1]]}"
      ]
     },
     "execution_count": 405,
     "metadata": {},
     "output_type": "execute_result"
    }
   ],
   "source": [
    "tmp"
   ]
  },
  {
   "cell_type": "code",
   "execution_count": 403,
   "id": "4c56a03d",
   "metadata": {},
   "outputs": [
    {
     "data": {
      "text/plain": [
       "{0: [[0, 0], [1, 0], [1, 1]], 1: [[1, 0]], 2: [[1, 1]]}"
      ]
     },
     "execution_count": 403,
     "metadata": {},
     "output_type": "execute_result"
    }
   ],
   "source": [
    "ANS"
   ]
  },
  {
   "cell_type": "code",
   "execution_count": null,
   "id": "c0f65555",
   "metadata": {},
   "outputs": [],
   "source": []
  }
 ],
 "metadata": {
  "kernelspec": {
   "display_name": "Python 3 (ipykernel)",
   "language": "python",
   "name": "python3"
  },
  "language_info": {
   "codemirror_mode": {
    "name": "ipython",
    "version": 3
   },
   "file_extension": ".py",
   "mimetype": "text/x-python",
   "name": "python",
   "nbconvert_exporter": "python",
   "pygments_lexer": "ipython3",
   "version": "3.9.13"
  }
 },
 "nbformat": 4,
 "nbformat_minor": 5
}
