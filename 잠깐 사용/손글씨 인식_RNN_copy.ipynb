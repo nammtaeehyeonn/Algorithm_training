{
 "cells": [
  {
   "cell_type": "markdown",
   "metadata": {
    "id": "iQbNuu0V0a-N"
   },
   "source": [
    "# 확인사항\n",
    "\n",
    "데이터 수집/전처리 ~ 정확도 산출의 과정을 로컬 환경과 Colab환경을 모두 활용하여 산출된 결과이므로 \n",
    "\n",
    "코드가 정상적으로 작동하지 않을 수 있습니다.\n",
    "\n",
    "* 원본 데이터 유무, 파일 경로 수정 등 사전확인 필요"
   ]
  },
  {
   "cell_type": "code",
   "execution_count": null,
   "metadata": {
    "colab": {
     "base_uri": "https://localhost:8080/"
    },
    "executionInfo": {
     "elapsed": 2369,
     "status": "ok",
     "timestamp": 1678235764307,
     "user": {
      "displayName": "남태현",
      "userId": "14699555307848197703"
     },
     "user_tz": -540
    },
    "id": "H4fCCSr8GfLQ",
    "outputId": "8f22af10-b3e4-48b3-a551-28490afc5be8"
   },
   "outputs": [
    {
     "name": "stdout",
     "output_type": "stream",
     "text": [
      "Drive already mounted at /content/drive; to attempt to forcibly remount, call drive.mount(\"/content/drive\", force_remount=True).\n"
     ]
    }
   ],
   "source": [
    "from google.colab import drive\n",
    "drive.mount('/content/drive')"
   ]
  },
  {
   "cell_type": "markdown",
   "metadata": {
    "id": "jTX7Zr0Fp2b3"
   },
   "source": [
    "# csv파일 불러오기"
   ]
  },
  {
   "cell_type": "code",
   "execution_count": null,
   "metadata": {
    "id": "3lMkF6ripABp"
   },
   "outputs": [],
   "source": [
    "# #@title 로컬버전\n",
    "# import os\n",
    "# import numpy as np\n",
    "# import pandas as pd\n",
    "\n",
    "# def csv_loader(drive, type):        # 미리 정돈된 train, valid data set의 csv파일 불러오기\n",
    "#     if type == 'train':\n",
    "#         data = pd.read_csv(f\"{drive}:\\\\python__\\\\Final\\\\train.csv\")\n",
    "#     else:\n",
    "#         data = pd.read_csv(f\"{drive}:\\\\python__\\\\Final\\\\valid.csv\")\n",
    "    \n",
    "#     if drive == 'd':\n",
    "#         data.name = data.name.str.replace(\"E\",\"D\")\n",
    "    \n",
    "#     del data['Unnamed: 0']\n",
    "#     print(\"csv파일 로드 완료\")\n",
    "    \n",
    "#     return data"
   ]
  },
  {
   "cell_type": "code",
   "execution_count": null,
   "metadata": {
    "id": "0pyvSQ_Fo_-W"
   },
   "outputs": [],
   "source": [
    "# train = csv_loader('e', 'train')\n",
    "# valid = csv_loader('e', 'valid')\n",
    "\n",
    "# train.head()\n",
    "# valid.head()"
   ]
  },
  {
   "cell_type": "code",
   "execution_count": null,
   "metadata": {
    "id": "AbylOfqmqC_5"
   },
   "outputs": [],
   "source": [
    "import os\n",
    "import numpy as np\n",
    "import pandas as pd\n",
    "\n",
    "def csv_loader(type):        \n",
    "# 미리 정돈된 train, valid data set의 csv파일 불러오기\n",
    "# type = train or valid\n",
    "    if type == 'train':\n",
    "        data = pd.read_csv(\"/content/drive/MyDrive/train.csv\", encoding = \"utf-8\")\n",
    "    else:\n",
    "        data = pd.read_csv(\"/content/drive/MyDrive/valid.csv\", encoding = \"utf-8\")\n",
    "    \n",
    "    # if drive == 'd':\n",
    "    #     data.name = data.name.str.replace(\"E\",\"D\")\n",
    "    \n",
    "    del data['Unnamed: 0']\n",
    "    print(\"csv파일 로드 완료\")\n",
    "    \n",
    "    return data"
   ]
  },
  {
   "cell_type": "code",
   "execution_count": null,
   "metadata": {
    "colab": {
     "base_uri": "https://localhost:8080/"
    },
    "executionInfo": {
     "elapsed": 924,
     "status": "ok",
     "timestamp": 1678236999949,
     "user": {
      "displayName": "남태현",
      "userId": "14699555307848197703"
     },
     "user_tz": -540
    },
    "id": "udlXeXLkqGKW",
    "outputId": "8840d38c-a406-41a8-e90d-892fb3495a87"
   },
   "outputs": [
    {
     "name": "stdout",
     "output_type": "stream",
     "text": [
      "csv파일 로드 완료\n",
      "csv파일 로드 완료\n"
     ]
    }
   ],
   "source": [
    "train = csv_loader('train')\n",
    "valid = csv_loader('valid')"
   ]
  },
  {
   "cell_type": "code",
   "execution_count": null,
   "metadata": {
    "colab": {
     "base_uri": "https://localhost:8080/",
     "height": 206
    },
    "executionInfo": {
     "elapsed": 61,
     "status": "ok",
     "timestamp": 1678236999961,
     "user": {
      "displayName": "남태현",
      "userId": "14699555307848197703"
     },
     "user_tz": -540
    },
    "id": "cRjynr-asx9Y",
    "outputId": "84ee261b-4bfa-4034-8b07-9f84f8f545f1"
   },
   "outputs": [
    {
     "data": {
      "text/html": [
       "\n",
       "  <div id=\"df-8036b6f8-cbb3-4293-97a2-b6c7bf631a79\">\n",
       "    <div class=\"colab-df-container\">\n",
       "      <div>\n",
       "<style scoped>\n",
       "    .dataframe tbody tr th:only-of-type {\n",
       "        vertical-align: middle;\n",
       "    }\n",
       "\n",
       "    .dataframe tbody tr th {\n",
       "        vertical-align: top;\n",
       "    }\n",
       "\n",
       "    .dataframe thead th {\n",
       "        text-align: right;\n",
       "    }\n",
       "</style>\n",
       "<table border=\"1\" class=\"dataframe\">\n",
       "  <thead>\n",
       "    <tr style=\"text-align: right;\">\n",
       "      <th></th>\n",
       "      <th>name</th>\n",
       "      <th>label</th>\n",
       "      <th>label_index</th>\n",
       "    </tr>\n",
       "  </thead>\n",
       "  <tbody>\n",
       "    <tr>\n",
       "      <th>0</th>\n",
       "      <td>E:/다양한 형태의 한글 문자 OCR/Training/[원천]Training_필기체...</td>\n",
       "      <td>가</td>\n",
       "      <td>0</td>\n",
       "    </tr>\n",
       "    <tr>\n",
       "      <th>1</th>\n",
       "      <td>E:/다양한 형태의 한글 문자 OCR/Training/[원천]Training_필기체...</td>\n",
       "      <td>각</td>\n",
       "      <td>1</td>\n",
       "    </tr>\n",
       "    <tr>\n",
       "      <th>2</th>\n",
       "      <td>E:/다양한 형태의 한글 문자 OCR/Training/[원천]Training_필기체...</td>\n",
       "      <td>간</td>\n",
       "      <td>2</td>\n",
       "    </tr>\n",
       "    <tr>\n",
       "      <th>3</th>\n",
       "      <td>E:/다양한 형태의 한글 문자 OCR/Training/[원천]Training_필기체...</td>\n",
       "      <td>갇</td>\n",
       "      <td>3</td>\n",
       "    </tr>\n",
       "    <tr>\n",
       "      <th>4</th>\n",
       "      <td>E:/다양한 형태의 한글 문자 OCR/Training/[원천]Training_필기체...</td>\n",
       "      <td>갈</td>\n",
       "      <td>4</td>\n",
       "    </tr>\n",
       "  </tbody>\n",
       "</table>\n",
       "</div>\n",
       "      <button class=\"colab-df-convert\" onclick=\"convertToInteractive('df-8036b6f8-cbb3-4293-97a2-b6c7bf631a79')\"\n",
       "              title=\"Convert this dataframe to an interactive table.\"\n",
       "              style=\"display:none;\">\n",
       "        \n",
       "  <svg xmlns=\"http://www.w3.org/2000/svg\" height=\"24px\"viewBox=\"0 0 24 24\"\n",
       "       width=\"24px\">\n",
       "    <path d=\"M0 0h24v24H0V0z\" fill=\"none\"/>\n",
       "    <path d=\"M18.56 5.44l.94 2.06.94-2.06 2.06-.94-2.06-.94-.94-2.06-.94 2.06-2.06.94zm-11 1L8.5 8.5l.94-2.06 2.06-.94-2.06-.94L8.5 2.5l-.94 2.06-2.06.94zm10 10l.94 2.06.94-2.06 2.06-.94-2.06-.94-.94-2.06-.94 2.06-2.06.94z\"/><path d=\"M17.41 7.96l-1.37-1.37c-.4-.4-.92-.59-1.43-.59-.52 0-1.04.2-1.43.59L10.3 9.45l-7.72 7.72c-.78.78-.78 2.05 0 2.83L4 21.41c.39.39.9.59 1.41.59.51 0 1.02-.2 1.41-.59l7.78-7.78 2.81-2.81c.8-.78.8-2.07 0-2.86zM5.41 20L4 18.59l7.72-7.72 1.47 1.35L5.41 20z\"/>\n",
       "  </svg>\n",
       "      </button>\n",
       "      \n",
       "  <style>\n",
       "    .colab-df-container {\n",
       "      display:flex;\n",
       "      flex-wrap:wrap;\n",
       "      gap: 12px;\n",
       "    }\n",
       "\n",
       "    .colab-df-convert {\n",
       "      background-color: #E8F0FE;\n",
       "      border: none;\n",
       "      border-radius: 50%;\n",
       "      cursor: pointer;\n",
       "      display: none;\n",
       "      fill: #1967D2;\n",
       "      height: 32px;\n",
       "      padding: 0 0 0 0;\n",
       "      width: 32px;\n",
       "    }\n",
       "\n",
       "    .colab-df-convert:hover {\n",
       "      background-color: #E2EBFA;\n",
       "      box-shadow: 0px 1px 2px rgba(60, 64, 67, 0.3), 0px 1px 3px 1px rgba(60, 64, 67, 0.15);\n",
       "      fill: #174EA6;\n",
       "    }\n",
       "\n",
       "    [theme=dark] .colab-df-convert {\n",
       "      background-color: #3B4455;\n",
       "      fill: #D2E3FC;\n",
       "    }\n",
       "\n",
       "    [theme=dark] .colab-df-convert:hover {\n",
       "      background-color: #434B5C;\n",
       "      box-shadow: 0px 1px 3px 1px rgba(0, 0, 0, 0.15);\n",
       "      filter: drop-shadow(0px 1px 2px rgba(0, 0, 0, 0.3));\n",
       "      fill: #FFFFFF;\n",
       "    }\n",
       "  </style>\n",
       "\n",
       "      <script>\n",
       "        const buttonEl =\n",
       "          document.querySelector('#df-8036b6f8-cbb3-4293-97a2-b6c7bf631a79 button.colab-df-convert');\n",
       "        buttonEl.style.display =\n",
       "          google.colab.kernel.accessAllowed ? 'block' : 'none';\n",
       "\n",
       "        async function convertToInteractive(key) {\n",
       "          const element = document.querySelector('#df-8036b6f8-cbb3-4293-97a2-b6c7bf631a79');\n",
       "          const dataTable =\n",
       "            await google.colab.kernel.invokeFunction('convertToInteractive',\n",
       "                                                     [key], {});\n",
       "          if (!dataTable) return;\n",
       "\n",
       "          const docLinkHtml = 'Like what you see? Visit the ' +\n",
       "            '<a target=\"_blank\" href=https://colab.research.google.com/notebooks/data_table.ipynb>data table notebook</a>'\n",
       "            + ' to learn more about interactive tables.';\n",
       "          element.innerHTML = '';\n",
       "          dataTable['output_type'] = 'display_data';\n",
       "          await google.colab.output.renderOutput(dataTable, element);\n",
       "          const docLink = document.createElement('div');\n",
       "          docLink.innerHTML = docLinkHtml;\n",
       "          element.appendChild(docLink);\n",
       "        }\n",
       "      </script>\n",
       "    </div>\n",
       "  </div>\n",
       "  "
      ],
      "text/plain": [
       "                                                name label  label_index\n",
       "0  E:/다양한 형태의 한글 문자 OCR/Training/[원천]Training_필기체...     가            0\n",
       "1  E:/다양한 형태의 한글 문자 OCR/Training/[원천]Training_필기체...     각            1\n",
       "2  E:/다양한 형태의 한글 문자 OCR/Training/[원천]Training_필기체...     간            2\n",
       "3  E:/다양한 형태의 한글 문자 OCR/Training/[원천]Training_필기체...     갇            3\n",
       "4  E:/다양한 형태의 한글 문자 OCR/Training/[원천]Training_필기체...     갈            4"
      ]
     },
     "execution_count": 36,
     "metadata": {},
     "output_type": "execute_result"
    }
   ],
   "source": [
    "train.head()"
   ]
  },
  {
   "cell_type": "code",
   "execution_count": null,
   "metadata": {
    "colab": {
     "base_uri": "https://localhost:8080/",
     "height": 206
    },
    "executionInfo": {
     "elapsed": 53,
     "status": "ok",
     "timestamp": 1678236999964,
     "user": {
      "displayName": "남태현",
      "userId": "14699555307848197703"
     },
     "user_tz": -540
    },
    "id": "Zd-3V1oFsyXH",
    "outputId": "f66b84e0-b6fc-4a38-b823-e47e2d4e7687"
   },
   "outputs": [
    {
     "data": {
      "text/html": [
       "\n",
       "  <div id=\"df-0aa64196-cc9f-43b2-8881-f4a6542dfd2c\">\n",
       "    <div class=\"colab-df-container\">\n",
       "      <div>\n",
       "<style scoped>\n",
       "    .dataframe tbody tr th:only-of-type {\n",
       "        vertical-align: middle;\n",
       "    }\n",
       "\n",
       "    .dataframe tbody tr th {\n",
       "        vertical-align: top;\n",
       "    }\n",
       "\n",
       "    .dataframe thead th {\n",
       "        text-align: right;\n",
       "    }\n",
       "</style>\n",
       "<table border=\"1\" class=\"dataframe\">\n",
       "  <thead>\n",
       "    <tr style=\"text-align: right;\">\n",
       "      <th></th>\n",
       "      <th>name</th>\n",
       "      <th>label</th>\n",
       "      <th>label_index</th>\n",
       "    </tr>\n",
       "  </thead>\n",
       "  <tbody>\n",
       "    <tr>\n",
       "      <th>0</th>\n",
       "      <td>E:\\다양한 형태의 한글 문자 OCR\\Validation\\[원천]validation...</td>\n",
       "      <td>가</td>\n",
       "      <td>0</td>\n",
       "    </tr>\n",
       "    <tr>\n",
       "      <th>1</th>\n",
       "      <td>E:\\다양한 형태의 한글 문자 OCR\\Validation\\[원천]validation...</td>\n",
       "      <td>각</td>\n",
       "      <td>1</td>\n",
       "    </tr>\n",
       "    <tr>\n",
       "      <th>2</th>\n",
       "      <td>E:\\다양한 형태의 한글 문자 OCR\\Validation\\[원천]validation...</td>\n",
       "      <td>간</td>\n",
       "      <td>2</td>\n",
       "    </tr>\n",
       "    <tr>\n",
       "      <th>3</th>\n",
       "      <td>E:\\다양한 형태의 한글 문자 OCR\\Validation\\[원천]validation...</td>\n",
       "      <td>갇</td>\n",
       "      <td>3</td>\n",
       "    </tr>\n",
       "    <tr>\n",
       "      <th>4</th>\n",
       "      <td>E:\\다양한 형태의 한글 문자 OCR\\Validation\\[원천]validation...</td>\n",
       "      <td>갈</td>\n",
       "      <td>4</td>\n",
       "    </tr>\n",
       "  </tbody>\n",
       "</table>\n",
       "</div>\n",
       "      <button class=\"colab-df-convert\" onclick=\"convertToInteractive('df-0aa64196-cc9f-43b2-8881-f4a6542dfd2c')\"\n",
       "              title=\"Convert this dataframe to an interactive table.\"\n",
       "              style=\"display:none;\">\n",
       "        \n",
       "  <svg xmlns=\"http://www.w3.org/2000/svg\" height=\"24px\"viewBox=\"0 0 24 24\"\n",
       "       width=\"24px\">\n",
       "    <path d=\"M0 0h24v24H0V0z\" fill=\"none\"/>\n",
       "    <path d=\"M18.56 5.44l.94 2.06.94-2.06 2.06-.94-2.06-.94-.94-2.06-.94 2.06-2.06.94zm-11 1L8.5 8.5l.94-2.06 2.06-.94-2.06-.94L8.5 2.5l-.94 2.06-2.06.94zm10 10l.94 2.06.94-2.06 2.06-.94-2.06-.94-.94-2.06-.94 2.06-2.06.94z\"/><path d=\"M17.41 7.96l-1.37-1.37c-.4-.4-.92-.59-1.43-.59-.52 0-1.04.2-1.43.59L10.3 9.45l-7.72 7.72c-.78.78-.78 2.05 0 2.83L4 21.41c.39.39.9.59 1.41.59.51 0 1.02-.2 1.41-.59l7.78-7.78 2.81-2.81c.8-.78.8-2.07 0-2.86zM5.41 20L4 18.59l7.72-7.72 1.47 1.35L5.41 20z\"/>\n",
       "  </svg>\n",
       "      </button>\n",
       "      \n",
       "  <style>\n",
       "    .colab-df-container {\n",
       "      display:flex;\n",
       "      flex-wrap:wrap;\n",
       "      gap: 12px;\n",
       "    }\n",
       "\n",
       "    .colab-df-convert {\n",
       "      background-color: #E8F0FE;\n",
       "      border: none;\n",
       "      border-radius: 50%;\n",
       "      cursor: pointer;\n",
       "      display: none;\n",
       "      fill: #1967D2;\n",
       "      height: 32px;\n",
       "      padding: 0 0 0 0;\n",
       "      width: 32px;\n",
       "    }\n",
       "\n",
       "    .colab-df-convert:hover {\n",
       "      background-color: #E2EBFA;\n",
       "      box-shadow: 0px 1px 2px rgba(60, 64, 67, 0.3), 0px 1px 3px 1px rgba(60, 64, 67, 0.15);\n",
       "      fill: #174EA6;\n",
       "    }\n",
       "\n",
       "    [theme=dark] .colab-df-convert {\n",
       "      background-color: #3B4455;\n",
       "      fill: #D2E3FC;\n",
       "    }\n",
       "\n",
       "    [theme=dark] .colab-df-convert:hover {\n",
       "      background-color: #434B5C;\n",
       "      box-shadow: 0px 1px 3px 1px rgba(0, 0, 0, 0.15);\n",
       "      filter: drop-shadow(0px 1px 2px rgba(0, 0, 0, 0.3));\n",
       "      fill: #FFFFFF;\n",
       "    }\n",
       "  </style>\n",
       "\n",
       "      <script>\n",
       "        const buttonEl =\n",
       "          document.querySelector('#df-0aa64196-cc9f-43b2-8881-f4a6542dfd2c button.colab-df-convert');\n",
       "        buttonEl.style.display =\n",
       "          google.colab.kernel.accessAllowed ? 'block' : 'none';\n",
       "\n",
       "        async function convertToInteractive(key) {\n",
       "          const element = document.querySelector('#df-0aa64196-cc9f-43b2-8881-f4a6542dfd2c');\n",
       "          const dataTable =\n",
       "            await google.colab.kernel.invokeFunction('convertToInteractive',\n",
       "                                                     [key], {});\n",
       "          if (!dataTable) return;\n",
       "\n",
       "          const docLinkHtml = 'Like what you see? Visit the ' +\n",
       "            '<a target=\"_blank\" href=https://colab.research.google.com/notebooks/data_table.ipynb>data table notebook</a>'\n",
       "            + ' to learn more about interactive tables.';\n",
       "          element.innerHTML = '';\n",
       "          dataTable['output_type'] = 'display_data';\n",
       "          await google.colab.output.renderOutput(dataTable, element);\n",
       "          const docLink = document.createElement('div');\n",
       "          docLink.innerHTML = docLinkHtml;\n",
       "          element.appendChild(docLink);\n",
       "        }\n",
       "      </script>\n",
       "    </div>\n",
       "  </div>\n",
       "  "
      ],
      "text/plain": [
       "                                                name label  label_index\n",
       "0  E:\\다양한 형태의 한글 문자 OCR\\Validation\\[원천]validation...     가            0\n",
       "1  E:\\다양한 형태의 한글 문자 OCR\\Validation\\[원천]validation...     각            1\n",
       "2  E:\\다양한 형태의 한글 문자 OCR\\Validation\\[원천]validation...     간            2\n",
       "3  E:\\다양한 형태의 한글 문자 OCR\\Validation\\[원천]validation...     갇            3\n",
       "4  E:\\다양한 형태의 한글 문자 OCR\\Validation\\[원천]validation...     갈            4"
      ]
     },
     "execution_count": 37,
     "metadata": {},
     "output_type": "execute_result"
    }
   ],
   "source": [
    "valid.head()"
   ]
  },
  {
   "cell_type": "markdown",
   "metadata": {
    "id": "IwnuwS82s8XQ"
   },
   "source": [
    "# 전처리 class, def\n",
    "\n",
    "### 로컬에서 실행"
   ]
  },
  {
   "cell_type": "code",
   "execution_count": null,
   "metadata": {
    "id": "weqPBxLJqNX0"
   },
   "outputs": [],
   "source": [
    "import pandas as pd\n",
    "import os\n",
    "import numpy as np\n",
    "import matplotlib.pyplot as plt\n",
    "from PIL import Image\n",
    "import torch\n",
    "\n",
    "\n",
    "\n",
    "class dataset():        \n",
    "# 원본 데이터 -> 전처리 후 특정 폴더 저장 -> 분석 가능한 상태로 타입 변환을 위한 class 선언\n",
    "\n",
    "    def data_storage(data, start, end):      \n",
    "    # 원본데이터 -> size(50,50)으로 조정 -> 3차원의 RGB이미지를 1차원의 Gray scale로 변환 -> train, valid 폴더에 저장\n",
    "    # data = train or valid / def csv_loader(type)\n",
    "    # start/end = data에서 전처리 후 저장할 사진들의 시작/끝 인덱스 번호\n",
    "\n",
    "        if len(data) > 100000:      # 두 세트의 데이터 양으로 train / valid판별\n",
    "            folder_name = 'train'\n",
    "        else:\n",
    "            folder_name = 'valid'\n",
    "\n",
    "        for i,j in zip(list(data.name)[start:end], range(start,end)):\n",
    "            img = Image.open(i)\n",
    "            img = img.resize((50,50))   # size(110,110) -> size(50,50)\n",
    "            y = np.array(img)  # image -> numpy\n",
    "\n",
    "            scaled_y0 = y[:,:,0]    \n",
    "            # RGB -> Gray\n",
    "            scaled_y0[(scaled_y0 >= 220)] = 255\n",
    "            scaled_y0[(scaled_y0 < 220)] = 0\n",
    "            # pixel값 서명하게 조절\n",
    "\n",
    "            # 데이터 증강 필요할 시\n",
    "            # scaled_y1 = y[:,:,1]\n",
    "            # scaled_y2 = y[:,:,2]\n",
    "\n",
    "            # scaled_y1[(scaled_y1 >= 220)] = 255\n",
    "            # scaled_y2[(scaled_y2 >= 220)] = 255\n",
    "\n",
    "            # scaled_y1[(scaled_y1 < 220)] = 0\n",
    "            # scaled_y2[(scaled_y2 < 220)] = 0\n",
    "\n",
    "            img_scaled_y = Image.fromarray(scaled_y0)\n",
    "            # numpy -> image\n",
    "\n",
    "            img_scaled_y.save(f'./{folder_name}_data/{j}.png','png')\n",
    "            # 특정폴더에 번호순으로 저장\n",
    "            \n",
    "            if j % 3000 == 0:\n",
    "                print(f\"{j}개째 완료\")\n",
    "            \n",
    "        print(f\"{end}개 완료\")\n",
    "\n",
    "    \n",
    "    def data_ready(drive, data):        \n",
    "        # 전처리 후 특정 폴더에 저장된 이미지들 -> tensor형태로 전환\n",
    "        # drive = 로컬에서 특정 폴더의 위치 / c, d, e ...\n",
    "        # data = train or valid / def csv_loader(type) \n",
    "        drive = drive.upper()\n",
    "        \n",
    "        if len(data) > 100000:\n",
    "            folder_name = 'train'\n",
    "        else:\n",
    "            folder_name = 'valid'\n",
    "        \n",
    "        img_path_list = []\n",
    "        for i in range(len(os.listdir(f\"{drive}:\\\\python__\\\\Final\\\\{folder_name}_data\\\\\"))):    # 특정폴더 내 모든 데이터 개수\n",
    "            img_name = f\"{i}.png\"   # 이미지들 이름\n",
    "            img_path = os.path.join(f\"{drive}:\\\\python__\\\\Final\\\\{folder_name}_data\\\\\", img_name)   # 경로+이미지 이름\n",
    "            img_path_list.append(img_path)\n",
    "        # img_path_list\n",
    "\n",
    "        # 데이터셋 텐서형태로 stack\n",
    "        out_list = []\n",
    "        for i in range(len(img_path_list)):\n",
    "            img = Image.open(img_path_list[i])\n",
    "            y = np.array(img)  # 이미지 -> 넘파이\n",
    "            x = torch.from_numpy(y) # 넘파이 -> 텐서\n",
    "\n",
    "            out_list.append(x)  # 리스트 내 텐서들 삽입\n",
    "            if i % 10000 == 0:\n",
    "                print(f\"{i}까지 진행됨.\")\n",
    "            \n",
    "        train_data = torch.stack(out_list, dim = 0) # 전체 텐서 stack\n",
    "\n",
    "        print(\"데이터 구축 완료\")\n",
    "        print(train_data.size())\n",
    "        \n",
    "        return train_data\n",
    "        \n",
    "    \n",
    "    def save_data_npy(data, label):\n",
    "    # stacked tensor를 .npy로 외부에 저장\n",
    "    # data = def data_ready(drive, data) / train or valid\n",
    "    # label = def label_loader(data)\n",
    "        if len(data) > 100000:\n",
    "            folder_name = 'train'\n",
    "        else:\n",
    "            folder_name = 'valid'\n",
    "            \n",
    "        # 텐서를 외부파일로저장\n",
    "        a = data\n",
    "        a_1 = label\n",
    "        \n",
    "        # 텐서 -> 넘파이\n",
    "        a_np = a.numpy()\n",
    "        a_np_1 = a_1.numpy()\n",
    "        \n",
    "        # 넘파이 -> 외부파일\n",
    "        np.save(f'{folder_name}_data', a_np)\n",
    "        np.save(f'{folder_name}_target', a_np_1)\n",
    "        \n",
    "        # 외부파일 -> 넘파이\n",
    "        np_load = np.load(f'{folder_name}_data.npy')\n",
    "        np_load_1 = np.load(f'{folder_name}_target.npy')\n",
    "        \n",
    "        # 넘파이 -> 텐서\n",
    "        result = torch.from_numpy(np_load)\n",
    "        result_1 = torch.from_numpy(np_load_1)\n",
    "        \n",
    "        return result, result_1\n",
    "    \n",
    "    \n",
    "    def load_data_npy(data, label):\n",
    "        # 외부파일을 텐서로 불러오기\n",
    "        # data = def data_ready(drive, data) / train or valid\n",
    "        # label = def label_loader(data)\n",
    "        np_load = np.load(data)\n",
    "        np_load_1 = np.load(label)\n",
    "        \n",
    "        result = torch.from_numpy(np_load)\n",
    "        result_1 = torch.from_numpy(np_load_1)\n",
    "        \n",
    "        return result, result_1\n",
    "\n",
    "    \n",
    "    def label_loader(data):\n",
    "    # label들만 따로 불러오기\n",
    "        if len(data) > 100000:\n",
    "            type_data = train_data\n",
    "            type_target = train_target\n",
    "        else:\n",
    "            type_data = valid_data\n",
    "            type_target = valid_target\n",
    "            \n",
    "        target = data.label_index[:len(type_data)]\n",
    "        type_target = torch.from_numpy(target.values)\n",
    "        \n",
    "        print(\"label 구축 완료\")\n",
    "        print(type_target.size())\n",
    "        \n",
    "        return type_target\n",
    "        \n",
    "        \n",
    "    def plot(type, index):\n",
    "    # 예시 그림그려보기\n",
    "        if type == 'valid':\n",
    "            type_data = valid_data\n",
    "        else:\n",
    "            type_data = train_data\n",
    "            \n",
    "        x = type_data[index]\n",
    "        img = (np.array(x.detach().cpu(), dtype='float'))\n",
    "\n",
    "        plt.imshow(img, cmap='gray')\n",
    "        plt.show()"
   ]
  },
  {
   "cell_type": "markdown",
   "metadata": {
    "id": "ct8-W-J8ctRX"
   },
   "source": [
    "# 분석 실행\n"
   ]
  },
  {
   "cell_type": "code",
   "execution_count": null,
   "metadata": {
    "id": "P_mVtqUzrLob"
   },
   "outputs": [],
   "source": [
    "import torch.nn as nn\n",
    "import torch.nn.functional as F\n",
    "import torch.optim as optim\n",
    "\n",
    "\n",
    "np_load = np.load('/content/drive/MyDrive/train_data.npy')\n",
    "np_load_1 = np.load('/content/drive/MyDrive/train_target.npy')\n",
    "\n",
    "train_data = torch.from_numpy(np_load)\n",
    "train_target = torch.from_numpy(np_load_1)\n",
    "\n",
    "np_load_v = np.load('/content/drive/MyDrive/valid_data.npy')\n",
    "np_load_v_1 = np.load('/content/drive/MyDrive/valid_target.npy')\n",
    "\n",
    "valid_data = torch.from_numpy(np_load_v)\n",
    "valid_target = torch.from_numpy(np_load_v_1)"
   ]
  },
  {
   "cell_type": "markdown",
   "metadata": {
    "id": "p5IF6CmyyVfC"
   },
   "source": [
    "## DNN"
   ]
  },
  {
   "cell_type": "code",
   "execution_count": null,
   "metadata": {
    "id": "Atf5S3Ywqa3Z"
   },
   "outputs": [],
   "source": [
    "x = train_data.float() / 255.\n",
    "y = train_target\n",
    "\n",
    "x = x.view(x.size(0), -1)\n",
    "print(x.shape, y.shape)\n",
    "\n",
    "input_size = x.size(-1)\n",
    "output_size = int(max(y)) + 1\n",
    "\n",
    "print('input_size: %d, output_size: %d' % (input_size, output_size))"
   ]
  },
  {
   "cell_type": "code",
   "execution_count": null,
   "metadata": {
    "colab": {
     "base_uri": "https://localhost:8080/"
    },
    "executionInfo": {
     "elapsed": 3240,
     "status": "ok",
     "timestamp": 1678156855083,
     "user": {
      "displayName": "남태현",
      "userId": "14699555307848197703"
     },
     "user_tz": -540
    },
    "id": "Tb87bqnZqbDj",
    "outputId": "986d53b8-02d3-4387-987f-730410d84bf7"
   },
   "outputs": [
    {
     "name": "stdout",
     "output_type": "stream",
     "text": [
      "Train 215981 / Valid 53996 / Test 33114 samples.\n",
      "torch.Size([215981, 50, 50]) torch.Size([215981])\n",
      "torch.Size([53996, 50, 50]) torch.Size([53996])\n",
      "torch.Size([33114, 2500]) torch.Size([33114])\n"
     ]
    }
   ],
   "source": [
    "# Train / Valid ratio\n",
    "ratios = [.8, .2]\n",
    "\n",
    "train_cnt = int(x.size(0) * ratios[0])\n",
    "valid_cnt = int(x.size(0) - train_cnt)\n",
    "test_cnt = int(valid_data.size(0))\n",
    "cnts = [train_cnt, valid_cnt]\n",
    "\n",
    "print(\"Train %d / Valid %d / Test %d samples.\" % (train_cnt, valid_cnt, test_cnt))\n",
    "\n",
    "indices = torch.randperm(x.size(0))\n",
    "\n",
    "x = torch.index_select(x, dim=0, index=indices)\n",
    "y = torch.index_select(y, dim=0, index=indices)\n",
    "\n",
    "x = list(x.split(cnts, dim=0))\n",
    "y = list(y.split(cnts, dim=0))\n",
    "\n",
    "x += [(valid_data.float() / 255.).view(test_cnt, -1)]\n",
    "y += [valid_target]\n",
    "\n",
    "for x_i, y_i in zip(x, y):\n",
    "    print(x_i.size(), y_i.size())"
   ]
  },
  {
   "cell_type": "markdown",
   "metadata": {
    "id": "Xn01_nxDybOJ"
   },
   "source": [
    "## CNN"
   ]
  },
  {
   "cell_type": "code",
   "execution_count": null,
   "metadata": {
    "colab": {
     "base_uri": "https://localhost:8080/"
    },
    "executionInfo": {
     "elapsed": 4649,
     "status": "ok",
     "timestamp": 1678156922987,
     "user": {
      "displayName": "남태현",
      "userId": "14699555307848197703"
     },
     "user_tz": -540
    },
    "id": "We_02fKv8Fz9",
    "outputId": "400cc273-b3c0-47cb-f382-3f341a095f2f"
   },
   "outputs": [
    {
     "name": "stdout",
     "output_type": "stream",
     "text": [
      "torch.Size([269977, 50, 50]) torch.Size([269977])\n",
      "input_size: 50, output_size: 2352\n"
     ]
    }
   ],
   "source": [
    "\n",
    "x = train_data.float() / 255.\n",
    "y = train_target\n",
    "\n",
    "# x = x.view(x.size(0), -1)\n",
    "print(x.shape, y.shape)\n",
    "\n",
    "input_size = x.size(-1)\n",
    "output_size = int(max(y)) + 1\n",
    "\n",
    "print('input_size: %d, output_size: %d' % (input_size, output_size))"
   ]
  },
  {
   "cell_type": "code",
   "execution_count": null,
   "metadata": {
    "colab": {
     "base_uri": "https://localhost:8080/"
    },
    "executionInfo": {
     "elapsed": 2623,
     "status": "ok",
     "timestamp": 1678156929481,
     "user": {
      "displayName": "남태현",
      "userId": "14699555307848197703"
     },
     "user_tz": -540
    },
    "id": "b7KYDMO28czu",
    "outputId": "f32ca8e7-7435-4d65-80ba-c8db44f0e832"
   },
   "outputs": [
    {
     "name": "stdout",
     "output_type": "stream",
     "text": [
      "Train 215981 / Valid 53996 / Test 33114 samples.\n",
      "torch.Size([215981, 50, 50]) torch.Size([215981])\n",
      "torch.Size([53996, 50, 50]) torch.Size([53996])\n",
      "torch.Size([33114, 50, 50]) torch.Size([33114])\n"
     ]
    }
   ],
   "source": [
    "# Train / Valid ratio\n",
    "ratios = [.8, .2]\n",
    "\n",
    "train_cnt = int(x.size(0) * ratios[0])\n",
    "valid_cnt = int(x.size(0) - train_cnt)\n",
    "test_cnt = int(valid_data.size(0))\n",
    "cnts = [train_cnt, valid_cnt]\n",
    "\n",
    "print(\"Train %d / Valid %d / Test %d samples.\" % (train_cnt, valid_cnt, test_cnt))\n",
    "\n",
    "indices = torch.randperm(x.size(0))\n",
    "\n",
    "x = torch.index_select(x, dim=0, index=indices)\n",
    "y = torch.index_select(y, dim=0, index=indices)\n",
    "\n",
    "x = list(x.split(cnts, dim=0))\n",
    "y = list(y.split(cnts, dim=0))\n",
    "\n",
    "x += [(valid_data.float() / 255.)]\n",
    "y += [valid_target]\n",
    "\n",
    "for x_i, y_i in zip(x, y):\n",
    "    print(x_i.size(), y_i.size())"
   ]
  },
  {
   "cell_type": "markdown",
   "metadata": {
    "id": "6FEeA4J8yexf"
   },
   "source": [
    "## RNN(LSTM)"
   ]
  },
  {
   "cell_type": "code",
   "execution_count": null,
   "metadata": {
    "colab": {
     "base_uri": "https://localhost:8080/"
    },
    "executionInfo": {
     "elapsed": 5174,
     "status": "ok",
     "timestamp": 1678160664355,
     "user": {
      "displayName": "남태현",
      "userId": "05295757901117454111"
     },
     "user_tz": -540
    },
    "id": "z23tkbNtK1Mb",
    "outputId": "304d4e7d-7f83-45f7-ca0d-1b7c349e688a"
   },
   "outputs": [
    {
     "name": "stdout",
     "output_type": "stream",
     "text": [
      "torch.Size([269977, 50, 50]) torch.Size([269977])\n",
      "input_size: 50, output_size: 2352\n"
     ]
    }
   ],
   "source": [
    "x = train_data.float() / 255.\n",
    "y = train_target\n",
    "\n",
    "# x = x.view(x.size(0), -1)\n",
    "print(x.shape, y.shape)\n",
    "\n",
    "input_size = x.size(-1)\n",
    "output_size = int(max(y)) + 1\n",
    "\n",
    "print('input_size: %d, output_size: %d' % (input_size, output_size))"
   ]
  },
  {
   "cell_type": "code",
   "execution_count": null,
   "metadata": {
    "colab": {
     "base_uri": "https://localhost:8080/"
    },
    "executionInfo": {
     "elapsed": 2999,
     "status": "ok",
     "timestamp": 1678160703377,
     "user": {
      "displayName": "남태현",
      "userId": "05295757901117454111"
     },
     "user_tz": -540
    },
    "id": "WXBzlM__K_8w",
    "outputId": "2e69c237-5ee6-4e65-b563-019a1eb76096"
   },
   "outputs": [
    {
     "name": "stdout",
     "output_type": "stream",
     "text": [
      "Train 215981 / Valid 53996 / Test 33114 samples.\n",
      "torch.Size([215981, 50, 50]) torch.Size([215981])\n",
      "torch.Size([53996, 50, 50]) torch.Size([53996])\n",
      "torch.Size([33114, 50, 50]) torch.Size([33114])\n"
     ]
    }
   ],
   "source": [
    "# Train / Valid ratio\n",
    "ratios = [.8, .2]\n",
    "\n",
    "train_cnt = int(x.size(0) * ratios[0])\n",
    "valid_cnt = int(x.size(0) - train_cnt)\n",
    "test_cnt = int(valid_data.size(0))\n",
    "cnts = [train_cnt, valid_cnt]\n",
    "\n",
    "print(\"Train %d / Valid %d / Test %d samples.\" % (train_cnt, valid_cnt, test_cnt))\n",
    "\n",
    "indices = torch.randperm(x.size(0))\n",
    "\n",
    "x = torch.index_select(x, dim=0, index=indices)\n",
    "y = torch.index_select(y, dim=0, index=indices)\n",
    "\n",
    "x = list(x.split(cnts, dim=0))\n",
    "y = list(y.split(cnts, dim=0))\n",
    "\n",
    "x += [(valid_data.float() / 255.)]\n",
    "y += [valid_target]\n",
    "\n",
    "for x_i, y_i in zip(x, y):\n",
    "    print(x_i.size(), y_i.size())"
   ]
  },
  {
   "cell_type": "markdown",
   "metadata": {
    "id": "tJ_nEehxyyw_"
   },
   "source": [
    "# model"
   ]
  },
  {
   "cell_type": "markdown",
   "metadata": {
    "id": "clsOC0YzkLj_"
   },
   "source": [
    "## DNN (Regulalization)"
   ]
  },
  {
   "cell_type": "code",
   "execution_count": null,
   "metadata": {
    "id": "AeJPU0EYhGsT"
   },
   "outputs": [],
   "source": [
    "class Block(nn.Module):\n",
    "    \n",
    "    def __init__(self,\n",
    "                 input_size,\n",
    "                 output_size,\n",
    "                 use_batch_norm=True,\n",
    "                 dropout_p=.4):\n",
    "        self.input_size = input_size\n",
    "        self.output_size = output_size\n",
    "        self.use_batch_norm = use_batch_norm\n",
    "        self.dropout_p = dropout_p\n",
    "        \n",
    "        super().__init__()\n",
    "        \n",
    "        def get_regularizer(use_batch_norm, size):\n",
    "            return nn.BatchNorm1d(size) if use_batch_norm else nn.Dropout(dropout_p)\n",
    "        \n",
    "        self.block = nn.Sequential(\n",
    "            nn.Linear(input_size, output_size),\n",
    "            nn.LeakyReLU(),\n",
    "            get_regularizer(use_batch_norm, output_size),\n",
    "        )\n",
    "        \n",
    "    def forward(self, x):\n",
    "        # |x| = (batch_size, input_size)\n",
    "        y = self.block(x)\n",
    "        # |y| = (batch_size, output_size)\n",
    "        \n",
    "        return y\n",
    "        \n",
    "class MyModel(nn.Module):\n",
    "    \n",
    "    def __init__(self,\n",
    "                 input_size,\n",
    "                 output_size,\n",
    "                 use_batch_norm=True,\n",
    "                 dropout_p=.4):\n",
    "        \n",
    "        super().__init__()\n",
    "        \n",
    "        self.layers = nn.Sequential(\n",
    "            Block(input_size, 1800, use_batch_norm, dropout_p),\n",
    "            Block(1800, 1500, use_batch_norm, dropout_p),\n",
    "            Block(1500, 1024, use_batch_norm, dropout_p),\n",
    "            Block(1024, 512, use_batch_norm, dropout_p),\n",
    "            Block(512, 256, use_batch_norm, dropout_p),\n",
    "            Block(256, 128, use_batch_norm, dropout_p),\n",
    "            Block(128, 256, use_batch_norm, dropout_p),\n",
    "            Block(256, 512, use_batch_norm, dropout_p),\n",
    "            Block(512, 1024, use_batch_norm, dropout_p),\n",
    "            Block(1024, 2048, use_batch_norm, dropout_p),\n",
    "            nn.Linear(2048, output_size),\n",
    "            nn.LogSoftmax(dim=-1),\n",
    "        )\n",
    "        \n",
    "    def forward(self, x):\n",
    "        # |x| = (batch_size, input_size)        \n",
    "        y = self.layers(x)\n",
    "        # |y| = (batch_size, output_size)\n",
    "        \n",
    "        return y"
   ]
  },
  {
   "cell_type": "code",
   "execution_count": null,
   "metadata": {
    "id": "XyxiWS74zYOv"
   },
   "outputs": [],
   "source": [
    "model = MyModel(input_size,\n",
    "                output_size,\n",
    "                use_batch_norm=True)\n",
    "\n",
    "model"
   ]
  },
  {
   "cell_type": "markdown",
   "metadata": {
    "id": "fJpZuKxujqy3"
   },
   "source": [
    "## CNN"
   ]
  },
  {
   "cell_type": "code",
   "execution_count": null,
   "metadata": {
    "id": "m6-QkeAFgBq-"
   },
   "outputs": [],
   "source": [
    "import torch\n",
    "import torch.nn as nn\n",
    "\n",
    "\n",
    "class ConvolutionBlock(nn.Module):\n",
    "\n",
    "    def __init__(self, in_channels, out_channels):\n",
    "        self.in_channels = in_channels\n",
    "        self.out_channels = out_channels\n",
    "\n",
    "        super().__init__()\n",
    "\n",
    "        self.layers = nn.Sequential(\n",
    "            nn.Conv2d(in_channels, out_channels, (3, 3), padding=1),\n",
    "            nn.ReLU(),\n",
    "            nn.BatchNorm2d(out_channels),\n",
    "            nn.Conv2d(out_channels, out_channels, (3, 3), stride=2, padding=1),\n",
    "            nn.ReLU(),\n",
    "            nn.BatchNorm2d(out_channels),\n",
    "        )\n",
    "\n",
    "    def forward(self, x):\n",
    "        # |x| = (batch_size, in_channels, h, w)\n",
    "\n",
    "        y = self.layers(x)\n",
    "        # |y| = (batch_size, out_channels, h, w)\n",
    "\n",
    "        return y\n",
    "\n",
    "\n",
    "class ConvolutionalClassifier(nn.Module):\n",
    "\n",
    "    def __init__(self, output_size):\n",
    "        self.output_size = output_size\n",
    "\n",
    "        super().__init__()\n",
    "\n",
    "        self.blocks = nn.Sequential( # |x| = (n, 1, 50, 50)\n",
    "            ConvolutionBlock(1, 32), # (n, 32, 24, 24)\n",
    "            ConvolutionBlock(32, 64), # (n, 64, 12, 12)\n",
    "            ConvolutionBlock(64, 128), # (n, 128, 6, 6)\n",
    "            ConvolutionBlock(128, 256), # (n, 256, 3, 3)\n",
    "            ConvolutionBlock(256, 512), # (n, 512, 2, 2)\n",
    "            ConvolutionBlock(512, 1024), # (n, 1024, 1, 1)\n",
    "        )\n",
    "        self.layers = nn.Sequential(\n",
    "            nn.Linear(1024, 1500),\n",
    "            nn.ReLU(),\n",
    "            nn.BatchNorm1d(1500),\n",
    "            nn.Linear(1500, output_size),\n",
    "            nn.LogSoftmax(dim=-1),\n",
    "        )\n",
    "\n",
    "    def forward(self, x):\n",
    "        assert x.dim() > 2\n",
    "\n",
    "        if x.dim() == 3:\n",
    "            # |x| = (batch_size, h, w)\n",
    "            x = x.view(-1, 1, x.size(-2), x.size(-1))\n",
    "        # |x| = (batch_size, 1, h, w)\n",
    "\n",
    "        z = self.blocks(x)\n",
    "        # |z| = (batch_size, 512, 1, 1)\n",
    "\n",
    "        y = self.layers(z.squeeze())\n",
    "        # |y| = (batch_size, output_size)\n",
    "\n",
    "        return y\n"
   ]
  },
  {
   "cell_type": "code",
   "execution_count": null,
   "metadata": {
    "id": "eUDFALdHzPf3"
   },
   "outputs": [],
   "source": [
    "model = ConvolutionalClassifier(2352)"
   ]
  },
  {
   "cell_type": "markdown",
   "metadata": {
    "id": "29csCudWzHZf"
   },
   "source": [
    "## RNN(LSTM)"
   ]
  },
  {
   "cell_type": "code",
   "execution_count": null,
   "metadata": {
    "id": "4FxTbFofLgvt"
   },
   "outputs": [],
   "source": [
    "class SequenceClassifier(nn.Module):\n",
    "    def __init__(\n",
    "        self,\n",
    "        input_size,\n",
    "        hidden_size,\n",
    "        output_size,\n",
    "        n_layers=4,\n",
    "        dropout_p=.2,\n",
    "    ):\n",
    "        self.input_size = input_size\n",
    "        self.hidden_size = hidden_size\n",
    "        self.output_size = output_size\n",
    "        self.n_layers = n_layers\n",
    "        self.dropout_p = dropout_p\n",
    "        super().__init__()\n",
    "        self.rnn = nn.LSTM(\n",
    "            input_size=input_size,\n",
    "            hidden_size=hidden_size,\n",
    "            num_layers=n_layers,\n",
    "            batch_first=True,\n",
    "            dropout=dropout_p,\n",
    "            bidirectional=True,\n",
    "        )\n",
    "        self.layers = nn.Sequential(\n",
    "            nn.ReLU(),\n",
    "            nn.BatchNorm1d(hidden_size * 2),\n",
    "            nn.Linear(hidden_size * 2, output_size),\n",
    "            nn.LogSoftmax(dim=-1),\n",
    "        )\n",
    "    def forward(self, x):\n",
    "        # |x| = (batch_size, h, w)\n",
    "        z, _ = self.rnn(x)\n",
    "        # |z| = (batch_size, h, hidden_size * 2)\n",
    "        z = z[:, -1]\n",
    "        # |z| = (batch_size, hidden_size * 2)\n",
    "        y = self.layers(z)\n",
    "        # |y| = (batch_size, output_size)\n",
    "        return y\n"
   ]
  },
  {
   "cell_type": "code",
   "execution_count": null,
   "metadata": {
    "id": "_I1Qh80_iv5X"
   },
   "outputs": [],
   "source": [
    "model = SequenceClassifier(\n",
    "            input_size = 50,\n",
    "            hidden_size = 64,\n",
    "            output_size = 2352,\n",
    "            n_layers = 8,\n",
    "            dropout_p = 0.2,\n",
    "        )"
   ]
  },
  {
   "cell_type": "markdown",
   "metadata": {
    "id": "12frADT9kShe"
   },
   "source": [
    "# 공통 (손실함수, 최적화, cuda, H_P, train)"
   ]
  },
  {
   "cell_type": "code",
   "execution_count": null,
   "metadata": {
    "id": "naBLtViNqeVb"
   },
   "outputs": [],
   "source": [
    "crit = nn.NLLLoss()"
   ]
  },
  {
   "cell_type": "code",
   "execution_count": null,
   "metadata": {
    "id": "olfbVTssqeTr"
   },
   "outputs": [],
   "source": [
    "optimizer = optim.Adam(model.parameters())"
   ]
  },
  {
   "cell_type": "code",
   "execution_count": null,
   "metadata": {
    "id": "nvt7ScGoqeRS"
   },
   "outputs": [],
   "source": [
    "device = torch.device('cpu')\n",
    "if torch.cuda.is_available():\n",
    "    device = torch.device('cuda')"
   ]
  },
  {
   "cell_type": "code",
   "execution_count": null,
   "metadata": {
    "id": "G8eaSTUAqePC"
   },
   "outputs": [],
   "source": [
    "model = model.to(device)\n",
    "\n",
    "x = [x_i.to(device) for x_i in x]\n",
    "y = [y_i.to(device) for y_i in y]"
   ]
  },
  {
   "cell_type": "code",
   "execution_count": null,
   "metadata": {
    "colab": {
     "base_uri": "https://localhost:8080/"
    },
    "executionInfo": {
     "elapsed": 3,
     "status": "ok",
     "timestamp": 1678168694113,
     "user": {
      "displayName": "남태현",
      "userId": "05295757901117454111"
     },
     "user_tz": -540
    },
    "id": "TSWWxnQUsxvs",
    "outputId": "20c6ecce-ba90-4a3a-9353-c5f45eb49181"
   },
   "outputs": [
    {
     "data": {
      "text/plain": [
       "device(type='cuda')"
      ]
     },
     "execution_count": 57,
     "metadata": {},
     "output_type": "execute_result"
    }
   ],
   "source": [
    "device"
   ]
  },
  {
   "cell_type": "code",
   "execution_count": null,
   "metadata": {
    "id": "GVWcX2huqeMr"
   },
   "outputs": [],
   "source": [
    "n_epochs = 100\n",
    "batch_size = 512\n",
    "print_interval = 10"
   ]
  },
  {
   "cell_type": "code",
   "execution_count": null,
   "metadata": {
    "id": "g7smdppAqeHF"
   },
   "outputs": [],
   "source": [
    "from copy import deepcopy\n",
    "\n",
    "lowest_loss = np.inf\n",
    "best_model = None\n",
    "\n",
    "early_stop = 100\n",
    "lowest_epoch = np.inf"
   ]
  },
  {
   "cell_type": "code",
   "execution_count": null,
   "metadata": {
    "id": "f0vXX_CBhHRS"
   },
   "outputs": [],
   "source": [
    "train_history, valid_history = [], []\n",
    "\n",
    "for i in range(n_epochs):\n",
    "    model.train()\n",
    "    \n",
    "    indices = torch.randperm(x[0].size(0)).to(device)\n",
    "    x_ = torch.index_select(x[0], dim=0, index=indices)\n",
    "    y_ = torch.index_select(y[0], dim=0, index=indices)\n",
    "    \n",
    "    x_ = x_.split(batch_size, dim=0)\n",
    "    y_ = y_.split(batch_size, dim=0)\n",
    "    \n",
    "    train_loss, valid_loss = 0, 0\n",
    "    y_hat = []\n",
    "    \n",
    "    for x_i, y_i in zip(x_, y_):\n",
    "        y_hat_i = model(x_i)\n",
    "        loss = crit(y_hat_i, y_i.squeeze())\n",
    "\n",
    "        optimizer.zero_grad()\n",
    "        loss.backward()\n",
    "\n",
    "        optimizer.step()        \n",
    "        train_loss += float(loss) # This is very important to prevent memory leak.\n",
    "\n",
    "    train_loss = train_loss / len(x_)\n",
    "        \n",
    "    model.eval()\n",
    "    with torch.no_grad():\n",
    "        x_ = x[1].split(batch_size, dim=0)\n",
    "        y_ = y[1].split(batch_size, dim=0)\n",
    "        \n",
    "        valid_loss = 0\n",
    "        \n",
    "        for x_i, y_i in zip(x_, y_):\n",
    "            y_hat_i = model(x_i)\n",
    "            loss = crit(y_hat_i, y_i.squeeze())\n",
    "            \n",
    "            valid_loss += float(loss)\n",
    "            \n",
    "            y_hat += [y_hat_i]\n",
    "            \n",
    "    valid_loss = valid_loss / len(x_)\n",
    "    \n",
    "    train_history += [train_loss]\n",
    "    valid_history += [valid_loss]\n",
    "        \n",
    "    if (i + 1) % print_interval == 0:\n",
    "        print('Epoch %d: train loss=%.4e  valid_loss=%.4e  lowest_loss=%.4e' % (\n",
    "            i + 1,\n",
    "            train_loss,\n",
    "            valid_loss,\n",
    "            lowest_loss,\n",
    "        ))\n",
    "        \n",
    "    if valid_loss <= lowest_loss:\n",
    "        lowest_loss = valid_loss\n",
    "        lowest_epoch = i\n",
    "        \n",
    "        best_model = deepcopy(model.state_dict())\n",
    "    else:\n",
    "        if early_stop > 0 and lowest_epoch + early_stop < i + 1:\n",
    "            print(\"There is no improvement during last %d epochs.\" % early_stop)\n",
    "            break\n",
    "\n",
    "print(\"The best validation loss from epoch %d: %.4e\" % (lowest_epoch + 1, lowest_loss))\n",
    "model.load_state_dict(best_model)"
   ]
  },
  {
   "cell_type": "code",
   "execution_count": null,
   "metadata": {
    "colab": {
     "base_uri": "https://localhost:8080/"
    },
    "executionInfo": {
     "elapsed": 494,
     "status": "ok",
     "timestamp": 1678170154160,
     "user": {
      "displayName": "남태현",
      "userId": "05295757901117454111"
     },
     "user_tz": -540
    },
    "id": "QrJQ4GKJj0Tp",
    "outputId": "6c0c328f-d521-45e7-ba10-6401b332e17a"
   },
   "outputs": [
    {
     "data": {
      "text/plain": [
       "<All keys matched successfully>"
      ]
     },
     "execution_count": 63,
     "metadata": {},
     "output_type": "execute_result"
    }
   ],
   "source": [
    "model.load_state_dict(best_model)"
   ]
  },
  {
   "cell_type": "markdown",
   "metadata": {
    "id": "ABac9FtzkgKW"
   },
   "source": [
    "# loss\n",
    "###  ---- RNN / hs : 64 / layers : 8 / bs : 512"
   ]
  },
  {
   "cell_type": "code",
   "execution_count": null,
   "metadata": {
    "colab": {
     "base_uri": "https://localhost:8080/",
     "height": 607
    },
    "executionInfo": {
     "elapsed": 1284,
     "status": "ok",
     "timestamp": 1678170159219,
     "user": {
      "displayName": "남태현",
      "userId": "05295757901117454111"
     },
     "user_tz": -540
    },
    "id": "aKqcJkPUqd0q",
    "outputId": "6323d926-b4ee-4d65-e3df-9ce996885771"
   },
   "outputs": [
    {
     "data": {
      "image/png": "[encoded data removed]",
      "text/plain": [
       "<Figure size 1440x720 with 1 Axes>"
      ]
     },
     "metadata": {
      "needs_background": "light"
     },
     "output_type": "display_data"
    }
   ],
   "source": [
    "plot_from = 0\n",
    "\n",
    "plt.figure(figsize=(20, 10))\n",
    "plt.grid(True)\n",
    "plt.title(\"Train / Valid Loss History\")\n",
    "plt.plot(\n",
    "    range(plot_from, len(train_history)), train_history[plot_from:],\n",
    "    range(plot_from, len(valid_history)), valid_history[plot_from:],\n",
    ")\n",
    "plt.yscale('log')\n",
    "plt.show()"
   ]
  },
  {
   "cell_type": "code",
   "execution_count": null,
   "metadata": {
    "colab": {
     "base_uri": "https://localhost:8080/"
    },
    "executionInfo": {
     "elapsed": 1572,
     "status": "ok",
     "timestamp": 1678170182523,
     "user": {
      "displayName": "남태현",
      "userId": "05295757901117454111"
     },
     "user_tz": -540
    },
    "id": "EJ1JxPQIqlZm",
    "outputId": "966c85f4-ce7f-44e0-89ad-5181024ecae2"
   },
   "outputs": [
    {
     "name": "stdout",
     "output_type": "stream",
     "text": [
      "Validation loss: 2.3874e-01\n"
     ]
    }
   ],
   "source": [
    "# model.load_state_dict(best_model)\n",
    "\n",
    "model.eval()\n",
    "test_loss = 0\n",
    "y_hat = []\n",
    "\n",
    "with torch.no_grad():\n",
    "    x_ = x[-1].split(batch_size, dim=0)\n",
    "    y_ = y[-1].split(batch_size, dim=0)\n",
    "\n",
    "    for x_i, y_i in zip(x_, y_):\n",
    "        y_hat_i = model(x_i)\n",
    "        loss = crit(y_hat_i, y_i.squeeze())\n",
    "\n",
    "        test_loss += loss # Gradient is already detached.\n",
    "\n",
    "        y_hat += [y_hat_i]\n",
    "\n",
    "test_loss = test_loss / len(x_)\n",
    "y_hat = torch.cat(y_hat, dim=0)\n",
    "\n",
    "print(\"Validation loss: %.4e\" % test_loss)"
   ]
  },
  {
   "cell_type": "markdown",
   "metadata": {
    "id": "Dp4W_mi55dLo"
   },
   "source": [
    "# Accuracy"
   ]
  },
  {
   "cell_type": "markdown",
   "metadata": {
    "id": "Jo3SI8yUXAKJ"
   },
   "source": [
    "### RNN / hs : 64 / layers : 4 / bs : 512"
   ]
  },
  {
   "cell_type": "code",
   "execution_count": null,
   "metadata": {
    "colab": {
     "base_uri": "https://localhost:8080/"
    },
    "executionInfo": {
     "elapsed": 254,
     "status": "ok",
     "timestamp": 1678163801652,
     "user": {
      "displayName": "남태현",
      "userId": "05295757901117454111"
     },
     "user_tz": -540
    },
    "id": "euOzX_xVW23N",
    "outputId": "388d731e-138d-4a04-b2a9-36fb4febec4a"
   },
   "outputs": [
    {
     "name": "stdout",
     "output_type": "stream",
     "text": [
      "Accuracy: 0.9376\n"
     ]
    }
   ],
   "source": [
    "correct_cnt = (y[-1].squeeze() == torch.argmax(y_hat, dim=-1)).sum()\n",
    "total_cnt = float(y[-1].size(0))\n",
    "\n",
    "print('Accuracy: %.4f' % (correct_cnt / total_cnt))"
   ]
  },
  {
   "cell_type": "markdown",
   "metadata": {
    "id": "0AIDrKeUk7Cv"
   },
   "source": [
    "### RNN / hs : 128 / layers : 8 / bs : 512"
   ]
  },
  {
   "cell_type": "code",
   "execution_count": null,
   "metadata": {
    "colab": {
     "base_uri": "https://localhost:8080/"
    },
    "executionInfo": {
     "elapsed": 279,
     "status": "ok",
     "timestamp": 1678168525840,
     "user": {
      "displayName": "남태현",
      "userId": "05295757901117454111"
     },
     "user_tz": -540
    },
    "id": "0jzo95thloWv",
    "outputId": "0f0f3e53-e714-4333-9285-dbfa3b290770"
   },
   "outputs": [
    {
     "name": "stdout",
     "output_type": "stream",
     "text": [
      "Accuracy: 0.9452\n"
     ]
    }
   ],
   "source": [
    "correct_cnt = (y[-1].squeeze() == torch.argmax(y_hat, dim=-1)).sum()\n",
    "total_cnt = float(y[-1].size(0))\n",
    "\n",
    "print('Accuracy: %.4f' % (correct_cnt / total_cnt))"
   ]
  },
  {
   "cell_type": "markdown",
   "metadata": {
    "id": "A2HRuZaevPHD"
   },
   "source": [
    "### RNN / hs : 64 / layers : 8 / bs : 512"
   ]
  },
  {
   "cell_type": "code",
   "execution_count": null,
   "metadata": {
    "colab": {
     "base_uri": "https://localhost:8080/"
    },
    "executionInfo": {
     "elapsed": 267,
     "status": "ok",
     "timestamp": 1678170213821,
     "user": {
      "displayName": "남태현",
      "userId": "05295757901117454111"
     },
     "user_tz": -540
    },
    "id": "T9ZeVKAOvPTh",
    "outputId": "73d4a592-3301-4d64-9ec6-6b23c125276e"
   },
   "outputs": [
    {
     "name": "stdout",
     "output_type": "stream",
     "text": [
      "Accuracy: 0.9482\n"
     ]
    }
   ],
   "source": [
    "correct_cnt = (y[-1].squeeze() == torch.argmax(y_hat, dim=-1)).sum()\n",
    "total_cnt = float(y[-1].size(0))\n",
    "\n",
    "print('Accuracy: %.4f' % (correct_cnt / total_cnt))"
   ]
  },
  {
   "cell_type": "markdown",
   "metadata": {
    "id": "B7_2_-UJmuJX"
   },
   "source": [
    "# model.pth"
   ]
  },
  {
   "cell_type": "code",
   "execution_count": null,
   "metadata": {
    "id": "jY-CQkP1j7WD"
   },
   "outputs": [],
   "source": [
    "torch.save(best_model, 'rnn_model_hs64_layers8.pth')\n",
    "device = torch.device(\"cuda\")"
   ]
  },
  {
   "cell_type": "code",
   "execution_count": null,
   "metadata": {
    "id": "e7nrRrWIlO7O"
   },
   "outputs": [],
   "source": [
    "model = SequenceClassifier(\n",
    "            input_size = 50,\n",
    "            hidden_size = 64,\n",
    "            output_size = 2352,\n",
    "            n_layers = 8,\n",
    "            dropout_p = 0.2,\n",
    "        )"
   ]
  },
  {
   "cell_type": "code",
   "execution_count": null,
   "metadata": {
    "colab": {
     "base_uri": "https://localhost:8080/"
    },
    "executionInfo": {
     "elapsed": 243,
     "status": "ok",
     "timestamp": 1678170255851,
     "user": {
      "displayName": "남태현",
      "userId": "05295757901117454111"
     },
     "user_tz": -540
    },
    "id": "vlp0ICaemzr-",
    "outputId": "cf76b3f6-c102-4ff7-c4b7-ee52c60d3ff8"
   },
   "outputs": [
    {
     "data": {
      "text/plain": [
       "SequenceClassifier(\n",
       "  (rnn): LSTM(50, 64, num_layers=8, batch_first=True, dropout=0.2, bidirectional=True)\n",
       "  (layers): Sequential(\n",
       "    (0): ReLU()\n",
       "    (1): BatchNorm1d(128, eps=1e-05, momentum=0.1, affine=True, track_running_stats=True)\n",
       "    (2): Linear(in_features=128, out_features=2352, bias=True)\n",
       "    (3): LogSoftmax(dim=-1)\n",
       "  )\n",
       ")"
      ]
     },
     "execution_count": 69,
     "metadata": {},
     "output_type": "execute_result"
    }
   ],
   "source": [
    "model.load_state_dict(torch.load('rnn_model_hs64_layers8.pth'))\n",
    "model.to(device)"
   ]
  }
 ],
 "metadata": {
  "accelerator": "GPU",
  "colab": {
   "provenance": [
    {
     "file_id": "1mEdmQzc1FVTJyiXpgaV71soKf0G2oxq8",
     "timestamp": 1678238930969
    },
    {
     "file_id": "1CD-OYGnCRCZVkFJu8nMH3_gZ9UuQdMrL",
     "timestamp": 1678171099235
    },
    {
     "file_id": "1ibbvGUhfBAUlbixZZ5SQxs90Yx7xQxEx",
     "timestamp": 1678159308386
    }
   ]
  },
  "gpuClass": "standard",
  "kernelspec": {
   "display_name": "Python 3 (ipykernel)",
   "language": "python",
   "name": "python3"
  },
  "language_info": {
   "codemirror_mode": {
    "name": "ipython",
    "version": 3
   },
   "file_extension": ".py",
   "mimetype": "text/x-python",
   "name": "python",
   "nbconvert_exporter": "python",
   "pygments_lexer": "ipython3",
   "version": "3.9.13"
  }
 },
 "nbformat": 4,
 "nbformat_minor": 1
}
