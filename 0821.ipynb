{
 "cells": [
  {
   "cell_type": "markdown",
   "id": "e178a828",
   "metadata": {},
   "source": [
    "### 1193"
   ]
  },
  {
   "cell_type": "code",
   "execution_count": 104,
   "id": "be0fce9c",
   "metadata": {},
   "outputs": [
    {
     "name": "stdout",
     "output_type": "stream",
     "text": [
      "2\n",
      "1/2\n"
     ]
    }
   ],
   "source": [
    "X = int(input())\n",
    "n = 0\n",
    "tmp = 0\n",
    "\n",
    "while X > n:\n",
    "    tmp += 1\n",
    "    n += tmp\n",
    "    \n",
    "if tmp % 2 == 0:\n",
    "    a = tmp-(n-X)\n",
    "    b = 1+(n-X)\n",
    "    \n",
    "if tmp % 2 != 0:\n",
    "    a = 1 +(n-X)\n",
    "    b = tmp - (n-X)\n",
    "    \n",
    "print(a,\"/\",b, sep=\"\")"
   ]
  },
  {
   "cell_type": "markdown",
   "id": "ffc07ef2",
   "metadata": {},
   "source": [
    "### 1205"
   ]
  },
  {
   "cell_type": "code",
   "execution_count": 186,
   "id": "c9413c18",
   "metadata": {
    "scrolled": true
   },
   "outputs": [
    {
     "name": "stdout",
     "output_type": "stream",
     "text": [
      "10 1 10\n",
      "10 9 8 7 6 5 4 3 2 1\n",
      "-1\n"
     ]
    }
   ],
   "source": [
    "N, S, P = map(int,input().split())\n",
    "\n",
    "if N != 0:\n",
    "    S_list = [i for i in map(int,input().split())]\n",
    "    s_list = S_list.copy()\n",
    "    if S in S_list:\n",
    "        S_list.insert(S_list.index(S)+1, S)\n",
    "\n",
    "    if S not in S_list:\n",
    "        for i in range(len(S_list)):\n",
    "            if min(S_list) > S:\n",
    "                S_list.append(S)\n",
    "                break\n",
    "            if S_list[i] < S:\n",
    "                S_list.insert(i,S)\n",
    "                break\n",
    "\n",
    "    S_list = S_list[:P]\n",
    "\n",
    "    c_list = [i+1 for i in range(len(S_list))]\n",
    "    chk = []\n",
    "    for i, j in zip(S_list, c_list):\n",
    "        chk.append({'v':i,'r':j})\n",
    "        \n",
    "    for i in range(1,len(chk)):\n",
    "        if chk[i]['v'] == chk[i-1]['v']:\n",
    "            chk[i]['r'] = chk[i-1]['r']\n",
    "        \n",
    "    for i in chk:\n",
    "        if i['v'] == S:\n",
    "            ans = i['r']\n",
    "            break\n",
    "            \n",
    "\n",
    "if  N <= 0:\n",
    "    ans = 1\n",
    "    \n",
    "if N == P and S <= min(s_list):\n",
    "    ans = -1\n",
    "    \n",
    "    \n",
    "print(ans)"
   ]
  },
  {
   "cell_type": "code",
   "execution_count": 187,
   "id": "eb1b2d14",
   "metadata": {
    "scrolled": true
   },
   "outputs": [
    {
     "name": "stdout",
     "output_type": "stream",
     "text": [
      "점수 :  10           등수 :  1\n",
      "점수 :  9           등수 :  2\n",
      "점수 :  8           등수 :  3\n",
      "점수 :  7           등수 :  4\n",
      "점수 :  6           등수 :  5\n",
      "점수 :  5           등수 :  6\n",
      "점수 :  4           등수 :  7\n",
      "점수 :  3           등수 :  8\n",
      "점수 :  2           등수 :  9\n",
      "점수 :  1           등수 :  10\n"
     ]
    }
   ],
   "source": [
    "for q in chk:\n",
    "    print(\"점수 : \", q['v'], \"          등수 : \", q['r'])"
   ]
  },
  {
   "cell_type": "markdown",
   "id": "4ffcae14",
   "metadata": {},
   "source": [
    "### 1235"
   ]
  },
  {
   "cell_type": "code",
   "execution_count": 230,
   "id": "a3567d0e",
   "metadata": {},
   "outputs": [
    {
     "name": "stdout",
     "output_type": "stream",
     "text": [
      "3\n",
      "1212345\n",
      "1212356\n",
      "0033445\n",
      "3\n"
     ]
    }
   ],
   "source": [
    "N = int(input())\n",
    "\n",
    "N_list = [input() for i in range(N)]\n",
    "A_list = [0]*N\n",
    "set_A = set(A_list)\n",
    "\n",
    "j = -1\n",
    "ans = 0\n",
    "\n",
    "while len(set_A) != N:\n",
    "    for i in range(N):\n",
    "        A_list[i] = N_list[i][j:]\n",
    "    j -= 1\n",
    "    set_A = set(A_list)\n",
    "    ans += 1\n",
    "    \n",
    "    \n",
    "print(ans)"
   ]
  }
 ],
 "metadata": {
  "kernelspec": {
   "display_name": "Python 3 (ipykernel)",
   "language": "python",
   "name": "python3"
  },
  "language_info": {
   "codemirror_mode": {
    "name": "ipython",
    "version": 3
   },
   "file_extension": ".py",
   "mimetype": "text/x-python",
   "name": "python",
   "nbconvert_exporter": "python",
   "pygments_lexer": "ipython3",
   "version": "3.9.12"
  }
 },
 "nbformat": 4,
 "nbformat_minor": 5
}
