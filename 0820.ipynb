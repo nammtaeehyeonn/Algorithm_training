{
 "cells": [
  {
   "cell_type": "markdown",
   "id": "f9c810ce",
   "metadata": {},
   "source": [
    "### 1094"
   ]
  },
  {
   "cell_type": "code",
   "execution_count": 97,
   "id": "909543b2",
   "metadata": {
    "scrolled": true
   },
   "outputs": [
    {
     "name": "stdout",
     "output_type": "stream",
     "text": [
      "20\n",
      "2\n"
     ]
    }
   ],
   "source": [
    "x = int(input())\n",
    "count = 0\n",
    "n = 64\n",
    "while x > 0:\n",
    "    if n > x:\n",
    "        n = n // 2\n",
    "    else:\n",
    "        count += 1\n",
    "        x -= n\n",
    "print(count)"
   ]
  },
  {
   "cell_type": "markdown",
   "id": "124a3c59",
   "metadata": {},
   "source": [
    "### 1120"
   ]
  },
  {
   "cell_type": "code",
   "execution_count": 214,
   "id": "3c8ce07f",
   "metadata": {},
   "outputs": [
    {
     "name": "stdout",
     "output_type": "stream",
     "text": [
      "koder topcoder\n",
      "1\n"
     ]
    }
   ],
   "source": [
    "A, B = input().split()\n",
    "ans = 0\n",
    "count = 0\n",
    "max_count = 0\n",
    "\n",
    "if len(A) != len(B):\n",
    "    for k in range(0, (len(B) - len(A))+1):\n",
    "        AA = '0'*k + A + '0'*((len(B) - len(A))-k)\n",
    "        for i, j in zip(AA,B):\n",
    "            if i == j:\n",
    "                count += 1\n",
    "        if max_count < count:\n",
    "            max_count = count\n",
    "        count = 0\n",
    "    ans = len(A) - max_count\n",
    "\n",
    "if len(A) == len(B):\n",
    "    if A != B:\n",
    "        for i, j in zip(A,B):\n",
    "            if i != j:\n",
    "                ans += 1\n",
    "\n",
    "if A == B or A in B:\n",
    "    ans = 0\n",
    "\n",
    "print(ans)"
   ]
  },
  {
   "cell_type": "code",
   "execution_count": 215,
   "id": "e78e0b08",
   "metadata": {},
   "outputs": [
    {
     "name": "stdout",
     "output_type": "stream",
     "text": [
      "koder topcoder\n",
      "1\n"
     ]
    }
   ],
   "source": [
    "A, B = input().split()\n",
    "min_value = 50\n",
    "\n",
    "for i in range(len(B) - len(A) + 1):\n",
    "    cnt = 0\n",
    "    for j in range(len(A)):\n",
    "        if A[j] != B[i + j]:\n",
    "            cnt += 1\n",
    "    min_value = min(min_value, cnt)\n",
    "\n",
    "print(min_value)"
   ]
  },
  {
   "cell_type": "markdown",
   "id": "68c83f88",
   "metadata": {},
   "source": [
    "### 1158"
   ]
  },
  {
   "cell_type": "code",
   "execution_count": 377,
   "id": "675ef955",
   "metadata": {},
   "outputs": [
    {
     "name": "stdout",
     "output_type": "stream",
     "text": [
      "7 3\n",
      "<3, 6, 2, 7, 5, 1, 4>\n"
     ]
    }
   ],
   "source": [
    "n, K = map(int,input().split())\n",
    "N = [i+1 for i in range(n)]\n",
    "N_list = []\n",
    "num = 0\n",
    "\n",
    "for i in range(n):\n",
    "    num += (K-1)\n",
    "    if num >= len(N):\n",
    "        num %= len(N)\n",
    "    \n",
    "    N_list.append(str(N[num]))\n",
    "    N.pop(num)\n",
    "\n",
    "print(\"<\"+\", \".join(N_list)+\">\")"
   ]
  },
  {
   "cell_type": "markdown",
   "id": "24b2555d",
   "metadata": {},
   "source": [
    "### 1181"
   ]
  },
  {
   "cell_type": "code",
   "execution_count": 486,
   "id": "622c164a",
   "metadata": {},
   "outputs": [
    {
     "name": "stdout",
     "output_type": "stream",
     "text": [
      "3\n",
      "amam\n",
      "i\n",
      "boyboy\n",
      "i\n",
      "amam\n",
      "boyboy\n"
     ]
    }
   ],
   "source": [
    "n = int(input())\n",
    "\n",
    "word_list = []\n",
    "for i in range(n):\n",
    "    word_list.append(input())\n",
    "\n",
    "set_word = list(set(word_list))\n",
    "\n",
    "sorted_word_list = []\n",
    "for i in set_word:\n",
    "    sorted_word_list.append((len(i), i))\n",
    "\n",
    "result = sorted(sorted_word_list)\n",
    "\n",
    "for len_word, word_list in result:\n",
    "    print(word_list)"
   ]
  }
 ],
 "metadata": {
  "kernelspec": {
   "display_name": "Python 3 (ipykernel)",
   "language": "python",
   "name": "python3"
  },
  "language_info": {
   "codemirror_mode": {
    "name": "ipython",
    "version": 3
   },
   "file_extension": ".py",
   "mimetype": "text/x-python",
   "name": "python",
   "nbconvert_exporter": "python",
   "pygments_lexer": "ipython3",
   "version": "3.9.13"
  }
 },
 "nbformat": 4,
 "nbformat_minor": 5
}
