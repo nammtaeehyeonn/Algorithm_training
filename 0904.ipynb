{
 "cells": [
  {
   "cell_type": "markdown",
   "id": "21c80c55",
   "metadata": {},
   "source": [
    "### 1485"
   ]
  },
  {
   "cell_type": "code",
   "execution_count": 29,
   "id": "fc669ce2",
   "metadata": {
    "scrolled": true
   },
   "outputs": [
    {
     "name": "stdout",
     "output_type": "stream",
     "text": [
      "1\n",
      "5 5\n",
      "10 5\n",
      "5 10\n",
      "10 10\n",
      "1\n"
     ]
    }
   ],
   "source": [
    "T = int(input())\n",
    "A = []\n",
    "\n",
    "for i in range(T):\n",
    "    ANS = []\n",
    "    ans = []\n",
    "    for j in range(4):\n",
    "        x,y = map(int,input().split())\n",
    "        ans.append([x,y])\n",
    "        \n",
    "    for k in range(len(ans)):\n",
    "        x = ans[k][0]\n",
    "        y = ans[k][1]\n",
    "        \n",
    "        for q in ans:\n",
    "            a = (x - q[0])**2\n",
    "            b = (y - q[1])**2\n",
    "            c = (a+b)**(1/2)\n",
    "            \n",
    "            ANS.append(c)\n",
    "        \n",
    "    if len(set(ANS)) == 3:\n",
    "        A.append(1)\n",
    "    else:\n",
    "        A.append(0)\n",
    "\n",
    "for i in A:\n",
    "    print(i)"
   ]
  },
  {
   "cell_type": "markdown",
   "id": "579d5f3f",
   "metadata": {},
   "source": [
    "### 1459"
   ]
  },
  {
   "cell_type": "code",
   "execution_count": 175,
   "id": "60311d5b",
   "metadata": {},
   "outputs": [
    {
     "name": "stdout",
     "output_type": "stream",
     "text": [
      "135 122 43 29\n",
      "3929\n"
     ]
    }
   ],
   "source": [
    "X, Y, W, S = map(int,input().split())\n",
    "\n",
    "if 2*W > S:\n",
    "    if W > S:\n",
    "        if (max(X,Y) - min(X,Y)) % 2 == 0:\n",
    "            ans = max(X,Y)*S\n",
    "        if (max(X,Y) - min(X,Y)) % 2 == 1:\n",
    "            ans = (max(X,Y)-1)*S + W\n",
    "    else:\n",
    "        ans = min(X,Y)*S + abs(X-Y)*W\n",
    "        \n",
    "if 2*W <= S:\n",
    "    ans = abs(X+Y)*W\n",
    "        \n",
    "print(ans)"
   ]
  }
 ],
 "metadata": {
  "kernelspec": {
   "display_name": "Python 3 (ipykernel)",
   "language": "python",
   "name": "python3"
  },
  "language_info": {
   "codemirror_mode": {
    "name": "ipython",
    "version": 3
   },
   "file_extension": ".py",
   "mimetype": "text/x-python",
   "name": "python",
   "nbconvert_exporter": "python",
   "pygments_lexer": "ipython3",
   "version": "3.9.12"
  }
 },
 "nbformat": 4,
 "nbformat_minor": 5
}
