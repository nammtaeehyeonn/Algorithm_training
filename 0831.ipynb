{
 "cells": [
  {
   "cell_type": "markdown",
   "id": "76b3ad88",
   "metadata": {},
   "source": [
    "### 1072"
   ]
  },
  {
   "cell_type": "code",
   "execution_count": 389,
   "id": "59e5ba21",
   "metadata": {
    "collapsed": true
   },
   "outputs": [
    {
     "name": "stdout",
     "output_type": "stream",
     "text": [
      "99000 0\n",
      "right =  49499\n",
      "right =  24749\n",
      "right =  12374\n",
      "right =  6186\n",
      "right =  3092\n",
      "right =  1545\n",
      "left =  774\n",
      "0\n",
      "right =  1158\n",
      "left =  967\n",
      "0\n",
      "right =  1061\n",
      "right =  1013\n",
      "left =  991\n",
      "0\n",
      "right =  1001\n",
      "left =  997\n",
      "0\n",
      "left =  1000\n",
      "0\n",
      "right =  999\n",
      "1000\n"
     ]
    }
   ],
   "source": [
    "X, Y = map(int, input().split())\n",
    "Z = (Y * 100) // X\n",
    "\n",
    "if Z >= 99:\n",
    "    print(-1)\n",
    "else:\n",
    "    answer = 0\n",
    "    left = 1\n",
    "    right = X\n",
    " \n",
    "    while left <= right:\n",
    "        mid = (left + right) // 2\n",
    "        if (Y+mid)*100 // (X+mid) <= Z:\n",
    "            left = mid+1\n",
    "            print(\"left = \", left)\n",
    "            print((Y+mid)*100 // (X+mid))\n",
    "        else:\n",
    "            answer = mid\n",
    "            right = mid - 1\n",
    "            print(\"right = \", right)\n",
    " \n",
    "    print(answer)"
   ]
  },
  {
   "cell_type": "markdown",
   "id": "0cfca1d7",
   "metadata": {},
   "source": [
    "### 1213"
   ]
  },
  {
   "cell_type": "code",
   "execution_count": 448,
   "id": "62e6f9a6",
   "metadata": {},
   "outputs": [
    {
     "name": "stdout",
     "output_type": "stream",
     "text": [
      "AAABBBC\n",
      "I'm Sorry Hansoo\n"
     ]
    }
   ],
   "source": [
    "N = list(input())\n",
    "N_set = list(set(N))\n",
    "N_set.sort()\n",
    "\n",
    "ans = \"\"\n",
    "odd = 0\n",
    "tmp = \"\"\n",
    "\n",
    "for i in N_set:\n",
    "    if N.count(i) % 2 != 0:\n",
    "        odd += 1\n",
    "        tmp = i\n",
    "        \n",
    "    if odd >= 2:\n",
    "        ans = \"I'm Sorry Hansoo\"\n",
    "        tmp = \"\"\n",
    "        sna = \"\"\n",
    "        break\n",
    "    \n",
    "    c = N.count(i) // 2\n",
    "    ans += i*c\n",
    "    sna = ans[::-1]\n",
    "\n",
    "ans = ans + tmp + sna\n",
    "print(ans)"
   ]
  },
  {
   "cell_type": "markdown",
   "id": "96542db2",
   "metadata": {},
   "source": [
    "### 1270"
   ]
  },
  {
   "cell_type": "code",
   "execution_count": 469,
   "id": "bba1fcb5",
   "metadata": {},
   "outputs": [
    {
     "name": "stdout",
     "output_type": "stream",
     "text": [
      "4\n",
      "10 1 2 3 1 2 3 1 2 3 1\n",
      "SYJKGW\n",
      "5 1 1 1 2 2\n",
      "1\n",
      "6 10 10 2 10 10 2\n",
      "10\n",
      "6 1 1 1 2 2 2\n",
      "SYJKGW\n"
     ]
    }
   ],
   "source": [
    "N = int(input())\n",
    "\n",
    "for _ in range(N):\n",
    "    T = list(map(int,input().split()))\n",
    "    Ti = T[0]\n",
    "    T = T[1:]\n",
    "    D = dict()\n",
    "    \n",
    "    for i in T:\n",
    "        if i not in D:\n",
    "            D[i] = 1\n",
    "        else:\n",
    "            D[i] += 1\n",
    "\n",
    "            \n",
    "    if max(D.values()) <= Ti//2:\n",
    "        print('SYJKGW')\n",
    "    else:\n",
    "        print(max(D, key=D.get))"
   ]
  },
  {
   "cell_type": "markdown",
   "id": "43bada1a",
   "metadata": {},
   "source": [
    "### 1254"
   ]
  },
  {
   "cell_type": "code",
   "execution_count": 482,
   "id": "9dda6bbd",
   "metadata": {},
   "outputs": [
    {
     "name": "stdout",
     "output_type": "stream",
     "text": [
      "abcb\n",
      "5\n"
     ]
    }
   ],
   "source": [
    "s = input()\n",
    "\n",
    "for i in range(len(s)):\n",
    "    if s[i:] == s[i:][::-1]:\n",
    "        print(len(s)+i)\n",
    "        break"
   ]
  },
  {
   "cell_type": "markdown",
   "id": "86ecda40",
   "metadata": {},
   "source": [
    "### 1359"
   ]
  },
  {
   "cell_type": "code",
   "execution_count": 719,
   "id": "71bb02b9",
   "metadata": {},
   "outputs": [
    {
     "name": "stdout",
     "output_type": "stream",
     "text": [
      "8 2 1\n",
      "[1, 2]\n",
      "[1, 2]\n",
      "[]\n",
      "[]\n",
      "0.9642857142857143\n"
     ]
    }
   ],
   "source": [
    "N, M, K = map(int,input().split())\n",
    "\n",
    "N = [i for i in range(N,M,-1)]\n",
    "M = [j for j in range(1,M+1)]\n",
    "\n",
    "a_up, a_down = 1,1\n",
    "A_up, A_down = 1,1\n",
    "b_up, b_down = 1,1\n",
    "\n",
    "for i, j in zip(N,M):\n",
    "    b_up *= i\n",
    "    b_down *= j\n",
    "    \n",
    "B = b_up/b_down\n",
    "A = 0\n",
    "\n",
    "for k in range(K):\n",
    "    M_up = M[k:]\n",
    "    M_down = M[:len(M)-k]\n",
    "    \n",
    "    m_up = M[len(M)-k:]\n",
    "    m_down = M[:k]\n",
    "    \n",
    "    print(M_up)\n",
    "    print(M_down)\n",
    "    print(m_up)\n",
    "    print(m_down)\n",
    "    \n",
    "    for q,p in zip(M_up, M_down):\n",
    "        A_up *= q\n",
    "        A_down *= p\n",
    "    \n",
    "    for q,p in zip(m_up, m_down):\n",
    "        a_up *= q\n",
    "        a_down *= p\n",
    "        \n",
    "    A += ((A_up/A_down) * (a_up/a_down))\n",
    "    \n",
    "print(1-A/B)"
   ]
  },
  {
   "cell_type": "code",
   "execution_count": 693,
   "id": "38a319ea",
   "metadata": {},
   "outputs": [
    {
     "data": {
      "text/plain": [
       "1.0"
      ]
     },
     "execution_count": 693,
     "metadata": {},
     "output_type": "execute_result"
    }
   ],
   "source": [
    "(4*3*2*1) / (1*2*3*4)"
   ]
  },
  {
   "cell_type": "code",
   "execution_count": 695,
   "id": "3a75d98d",
   "metadata": {},
   "outputs": [
    {
     "data": {
      "text/plain": [
       "16.0"
      ]
     },
     "execution_count": 695,
     "metadata": {},
     "output_type": "execute_result"
    }
   ],
   "source": [
    "(4*3*2)/(3*2*1) * (4/1)"
   ]
  },
  {
   "cell_type": "code",
   "execution_count": 696,
   "id": "5c5e6b62",
   "metadata": {},
   "outputs": [
    {
     "data": {
      "text/plain": [
       "36.0"
      ]
     },
     "execution_count": 696,
     "metadata": {},
     "output_type": "execute_result"
    }
   ],
   "source": [
    "(4*3)/(2*1) * (4*3/2*1)"
   ]
  },
  {
   "cell_type": "code",
   "execution_count": 700,
   "id": "61f97a51",
   "metadata": {},
   "outputs": [
    {
     "data": {
      "text/plain": [
       "16.0"
      ]
     },
     "execution_count": 700,
     "metadata": {},
     "output_type": "execute_result"
    }
   ],
   "source": [
    "(4)/(1) * (4*3*2)/(3*2*1)"
   ]
  },
  {
   "cell_type": "code",
   "execution_count": 701,
   "id": "3b86ba63",
   "metadata": {},
   "outputs": [
    {
     "data": {
      "text/plain": [
       "1.0"
      ]
     },
     "execution_count": 701,
     "metadata": {},
     "output_type": "execute_result"
    }
   ],
   "source": [
    "(4*3*2*1) / (1*2*3*4)"
   ]
  },
  {
   "cell_type": "code",
   "execution_count": 547,
   "id": "d4f76e55",
   "metadata": {},
   "outputs": [
    {
     "data": {
      "text/plain": [
       "0.014285714285714285"
      ]
     },
     "execution_count": 547,
     "metadata": {},
     "output_type": "execute_result"
    }
   ],
   "source": [
    "# 다 틀릴 확률\n",
    "((4*3*2*1)/(1*2*3*4)) / ((8*7*6*5)/(1*2*3*4))"
   ]
  },
  {
   "cell_type": "code",
   "execution_count": 548,
   "id": "14fef342",
   "metadata": {},
   "outputs": [
    {
     "data": {
      "text/plain": [
       "0.22857142857142856"
      ]
     },
     "execution_count": 548,
     "metadata": {},
     "output_type": "execute_result"
    }
   ],
   "source": [
    "# 하나만 맞을 확률\n",
    "(4/1)*((4*3*2)/(1*2*3)) / ((8*7*6*5)//(1*2*3*4))"
   ]
  },
  {
   "cell_type": "code",
   "execution_count": 549,
   "id": "fc9e5df0",
   "metadata": {},
   "outputs": [
    {
     "data": {
      "text/plain": [
       "0.5142857142857142"
      ]
     },
     "execution_count": 549,
     "metadata": {},
     "output_type": "execute_result"
    }
   ],
   "source": [
    "# 두개 맞을 확률\n",
    "((4*3)/(1*2))*((4*3)/(1*2)) / ((8*7*6*5)//(1*2*3*4))"
   ]
  },
  {
   "cell_type": "code",
   "execution_count": 550,
   "id": "1b442862",
   "metadata": {},
   "outputs": [
    {
     "data": {
      "text/plain": [
       "0.22857142857142856"
      ]
     },
     "execution_count": 550,
     "metadata": {},
     "output_type": "execute_result"
    }
   ],
   "source": [
    "# 세개 맞을 확률\n",
    "((4*3*2)/(1*2*3))*((4)/(1)) / ((8*7*6*5)//(1*2*3*4))"
   ]
  },
  {
   "cell_type": "code",
   "execution_count": 551,
   "id": "058b9167",
   "metadata": {},
   "outputs": [
    {
     "data": {
      "text/plain": [
       "0.014285714285714285"
      ]
     },
     "execution_count": 551,
     "metadata": {},
     "output_type": "execute_result"
    }
   ],
   "source": [
    "# 네개 맞을 확률\n",
    "((4*3*2*1)/(1*2*3*4)) / ((8*7*6*5)/(1*2*3*4))"
   ]
  },
  {
   "cell_type": "code",
   "execution_count": null,
   "id": "6ebb4a97",
   "metadata": {},
   "outputs": [],
   "source": []
  }
 ],
 "metadata": {
  "kernelspec": {
   "display_name": "Python 3 (ipykernel)",
   "language": "python",
   "name": "python3"
  },
  "language_info": {
   "codemirror_mode": {
    "name": "ipython",
    "version": 3
   },
   "file_extension": ".py",
   "mimetype": "text/x-python",
   "name": "python",
   "nbconvert_exporter": "python",
   "pygments_lexer": "ipython3",
   "version": "3.9.12"
  }
 },
 "nbformat": 4,
 "nbformat_minor": 5
}
